{
  "nbformat": 4,
  "nbformat_minor": 0,
  "metadata": {
    "colab": {
      "provenance": [],
      "gpuType": "T4"
    },
    "kernelspec": {
      "name": "python3",
      "display_name": "Python 3"
    },
    "language_info": {
      "name": "python"
    },
    "accelerator": "GPU"
  },
  "cells": [
    {
      "cell_type": "code",
      "source": [
        "!pip install langchain\n"
      ],
      "metadata": {
        "colab": {
          "base_uri": "https://localhost:8080/"
        },
        "id": "lPKv8-UNHXUJ",
        "outputId": "78141a0e-7575-4b18-ab7c-8b985edfb761"
      },
      "execution_count": 1,
      "outputs": [
        {
          "output_type": "stream",
          "name": "stdout",
          "text": [
            "Collecting langchain\n",
            "  Downloading langchain-0.3.0-py3-none-any.whl.metadata (7.1 kB)\n",
            "Requirement already satisfied: PyYAML>=5.3 in /usr/local/lib/python3.10/dist-packages (from langchain) (6.0.2)\n",
            "Requirement already satisfied: SQLAlchemy<3,>=1.4 in /usr/local/lib/python3.10/dist-packages (from langchain) (2.0.35)\n",
            "Requirement already satisfied: aiohttp<4.0.0,>=3.8.3 in /usr/local/lib/python3.10/dist-packages (from langchain) (3.10.5)\n",
            "Requirement already satisfied: async-timeout<5.0.0,>=4.0.0 in /usr/local/lib/python3.10/dist-packages (from langchain) (4.0.3)\n",
            "Collecting langchain-core<0.4.0,>=0.3.0 (from langchain)\n",
            "  Downloading langchain_core-0.3.5-py3-none-any.whl.metadata (6.3 kB)\n",
            "Collecting langchain-text-splitters<0.4.0,>=0.3.0 (from langchain)\n",
            "  Downloading langchain_text_splitters-0.3.0-py3-none-any.whl.metadata (2.3 kB)\n",
            "Collecting langsmith<0.2.0,>=0.1.17 (from langchain)\n",
            "  Downloading langsmith-0.1.125-py3-none-any.whl.metadata (13 kB)\n",
            "Requirement already satisfied: numpy<2,>=1 in /usr/local/lib/python3.10/dist-packages (from langchain) (1.26.4)\n",
            "Requirement already satisfied: pydantic<3.0.0,>=2.7.4 in /usr/local/lib/python3.10/dist-packages (from langchain) (2.9.2)\n",
            "Requirement already satisfied: requests<3,>=2 in /usr/local/lib/python3.10/dist-packages (from langchain) (2.32.3)\n",
            "Collecting tenacity!=8.4.0,<9.0.0,>=8.1.0 (from langchain)\n",
            "  Downloading tenacity-8.5.0-py3-none-any.whl.metadata (1.2 kB)\n",
            "Requirement already satisfied: aiohappyeyeballs>=2.3.0 in /usr/local/lib/python3.10/dist-packages (from aiohttp<4.0.0,>=3.8.3->langchain) (2.4.0)\n",
            "Requirement already satisfied: aiosignal>=1.1.2 in /usr/local/lib/python3.10/dist-packages (from aiohttp<4.0.0,>=3.8.3->langchain) (1.3.1)\n",
            "Requirement already satisfied: attrs>=17.3.0 in /usr/local/lib/python3.10/dist-packages (from aiohttp<4.0.0,>=3.8.3->langchain) (24.2.0)\n",
            "Requirement already satisfied: frozenlist>=1.1.1 in /usr/local/lib/python3.10/dist-packages (from aiohttp<4.0.0,>=3.8.3->langchain) (1.4.1)\n",
            "Requirement already satisfied: multidict<7.0,>=4.5 in /usr/local/lib/python3.10/dist-packages (from aiohttp<4.0.0,>=3.8.3->langchain) (6.1.0)\n",
            "Requirement already satisfied: yarl<2.0,>=1.0 in /usr/local/lib/python3.10/dist-packages (from aiohttp<4.0.0,>=3.8.3->langchain) (1.11.1)\n",
            "Collecting jsonpatch<2.0,>=1.33 (from langchain-core<0.4.0,>=0.3.0->langchain)\n",
            "  Downloading jsonpatch-1.33-py2.py3-none-any.whl.metadata (3.0 kB)\n",
            "Requirement already satisfied: packaging<25,>=23.2 in /usr/local/lib/python3.10/dist-packages (from langchain-core<0.4.0,>=0.3.0->langchain) (24.1)\n",
            "Requirement already satisfied: typing-extensions>=4.7 in /usr/local/lib/python3.10/dist-packages (from langchain-core<0.4.0,>=0.3.0->langchain) (4.12.2)\n",
            "Collecting httpx<1,>=0.23.0 (from langsmith<0.2.0,>=0.1.17->langchain)\n",
            "  Downloading httpx-0.27.2-py3-none-any.whl.metadata (7.1 kB)\n",
            "Collecting orjson<4.0.0,>=3.9.14 (from langsmith<0.2.0,>=0.1.17->langchain)\n",
            "  Downloading orjson-3.10.7-cp310-cp310-manylinux_2_17_x86_64.manylinux2014_x86_64.whl.metadata (50 kB)\n",
            "\u001b[2K     \u001b[90m━━━━━━━━━━━━━━━━━━━━━━━━━━━━━━━━━━━━━━━━\u001b[0m \u001b[32m50.4/50.4 kB\u001b[0m \u001b[31m2.4 MB/s\u001b[0m eta \u001b[36m0:00:00\u001b[0m\n",
            "\u001b[?25hRequirement already satisfied: annotated-types>=0.6.0 in /usr/local/lib/python3.10/dist-packages (from pydantic<3.0.0,>=2.7.4->langchain) (0.7.0)\n",
            "Requirement already satisfied: pydantic-core==2.23.4 in /usr/local/lib/python3.10/dist-packages (from pydantic<3.0.0,>=2.7.4->langchain) (2.23.4)\n",
            "Requirement already satisfied: charset-normalizer<4,>=2 in /usr/local/lib/python3.10/dist-packages (from requests<3,>=2->langchain) (3.3.2)\n",
            "Requirement already satisfied: idna<4,>=2.5 in /usr/local/lib/python3.10/dist-packages (from requests<3,>=2->langchain) (3.10)\n",
            "Requirement already satisfied: urllib3<3,>=1.21.1 in /usr/local/lib/python3.10/dist-packages (from requests<3,>=2->langchain) (2.0.7)\n",
            "Requirement already satisfied: certifi>=2017.4.17 in /usr/local/lib/python3.10/dist-packages (from requests<3,>=2->langchain) (2024.8.30)\n",
            "Requirement already satisfied: greenlet!=0.4.17 in /usr/local/lib/python3.10/dist-packages (from SQLAlchemy<3,>=1.4->langchain) (3.1.0)\n",
            "Requirement already satisfied: anyio in /usr/local/lib/python3.10/dist-packages (from httpx<1,>=0.23.0->langsmith<0.2.0,>=0.1.17->langchain) (3.7.1)\n",
            "Collecting httpcore==1.* (from httpx<1,>=0.23.0->langsmith<0.2.0,>=0.1.17->langchain)\n",
            "  Downloading httpcore-1.0.5-py3-none-any.whl.metadata (20 kB)\n",
            "Requirement already satisfied: sniffio in /usr/local/lib/python3.10/dist-packages (from httpx<1,>=0.23.0->langsmith<0.2.0,>=0.1.17->langchain) (1.3.1)\n",
            "Collecting h11<0.15,>=0.13 (from httpcore==1.*->httpx<1,>=0.23.0->langsmith<0.2.0,>=0.1.17->langchain)\n",
            "  Downloading h11-0.14.0-py3-none-any.whl.metadata (8.2 kB)\n",
            "Collecting jsonpointer>=1.9 (from jsonpatch<2.0,>=1.33->langchain-core<0.4.0,>=0.3.0->langchain)\n",
            "  Downloading jsonpointer-3.0.0-py2.py3-none-any.whl.metadata (2.3 kB)\n",
            "Requirement already satisfied: exceptiongroup in /usr/local/lib/python3.10/dist-packages (from anyio->httpx<1,>=0.23.0->langsmith<0.2.0,>=0.1.17->langchain) (1.2.2)\n",
            "Downloading langchain-0.3.0-py3-none-any.whl (1.0 MB)\n",
            "\u001b[2K   \u001b[90m━━━━━━━━━━━━━━━━━━━━━━━━━━━━━━━━━━━━━━━━\u001b[0m \u001b[32m1.0/1.0 MB\u001b[0m \u001b[31m42.8 MB/s\u001b[0m eta \u001b[36m0:00:00\u001b[0m\n",
            "\u001b[?25hDownloading langchain_core-0.3.5-py3-none-any.whl (399 kB)\n",
            "\u001b[2K   \u001b[90m━━━━━━━━━━━━━━━━━━━━━━━━━━━━━━━━━━━━━━━━\u001b[0m \u001b[32m399.9/399.9 kB\u001b[0m \u001b[31m25.3 MB/s\u001b[0m eta \u001b[36m0:00:00\u001b[0m\n",
            "\u001b[?25hDownloading langchain_text_splitters-0.3.0-py3-none-any.whl (25 kB)\n",
            "Downloading langsmith-0.1.125-py3-none-any.whl (290 kB)\n",
            "\u001b[2K   \u001b[90m━━━━━━━━━━━━━━━━━━━━━━━━━━━━━━━━━━━━━━━━\u001b[0m \u001b[32m290.2/290.2 kB\u001b[0m \u001b[31m21.6 MB/s\u001b[0m eta \u001b[36m0:00:00\u001b[0m\n",
            "\u001b[?25hDownloading tenacity-8.5.0-py3-none-any.whl (28 kB)\n",
            "Downloading httpx-0.27.2-py3-none-any.whl (76 kB)\n",
            "\u001b[2K   \u001b[90m━━━━━━━━━━━━━━━━━━━━━━━━━━━━━━━━━━━━━━━━\u001b[0m \u001b[32m76.4/76.4 kB\u001b[0m \u001b[31m6.2 MB/s\u001b[0m eta \u001b[36m0:00:00\u001b[0m\n",
            "\u001b[?25hDownloading httpcore-1.0.5-py3-none-any.whl (77 kB)\n",
            "\u001b[2K   \u001b[90m━━━━━━━━━━━━━━━━━━━━━━━━━━━━━━━━━━━━━━━━\u001b[0m \u001b[32m77.9/77.9 kB\u001b[0m \u001b[31m5.9 MB/s\u001b[0m eta \u001b[36m0:00:00\u001b[0m\n",
            "\u001b[?25hDownloading jsonpatch-1.33-py2.py3-none-any.whl (12 kB)\n",
            "Downloading orjson-3.10.7-cp310-cp310-manylinux_2_17_x86_64.manylinux2014_x86_64.whl (141 kB)\n",
            "\u001b[2K   \u001b[90m━━━━━━━━━━━━━━━━━━━━━━━━━━━━━━━━━━━━━━━━\u001b[0m \u001b[32m141.9/141.9 kB\u001b[0m \u001b[31m9.3 MB/s\u001b[0m eta \u001b[36m0:00:00\u001b[0m\n",
            "\u001b[?25hDownloading jsonpointer-3.0.0-py2.py3-none-any.whl (7.6 kB)\n",
            "Downloading h11-0.14.0-py3-none-any.whl (58 kB)\n",
            "\u001b[2K   \u001b[90m━━━━━━━━━━━━━━━━━━━━━━━━━━━━━━━━━━━━━━━━\u001b[0m \u001b[32m58.3/58.3 kB\u001b[0m \u001b[31m4.6 MB/s\u001b[0m eta \u001b[36m0:00:00\u001b[0m\n",
            "\u001b[?25hInstalling collected packages: tenacity, orjson, jsonpointer, h11, jsonpatch, httpcore, httpx, langsmith, langchain-core, langchain-text-splitters, langchain\n",
            "  Attempting uninstall: tenacity\n",
            "    Found existing installation: tenacity 9.0.0\n",
            "    Uninstalling tenacity-9.0.0:\n",
            "      Successfully uninstalled tenacity-9.0.0\n",
            "Successfully installed h11-0.14.0 httpcore-1.0.5 httpx-0.27.2 jsonpatch-1.33 jsonpointer-3.0.0 langchain-0.3.0 langchain-core-0.3.5 langchain-text-splitters-0.3.0 langsmith-0.1.125 orjson-3.10.7 tenacity-8.5.0\n"
          ]
        }
      ]
    },
    {
      "cell_type": "code",
      "source": [
        "!pip install langchain_community"
      ],
      "metadata": {
        "colab": {
          "base_uri": "https://localhost:8080/"
        },
        "id": "pT0oDYP3HfyF",
        "outputId": "b87802de-fc2a-4ba0-b3e6-aeb381b67dea"
      },
      "execution_count": 2,
      "outputs": [
        {
          "output_type": "stream",
          "name": "stdout",
          "text": [
            "Collecting langchain_community\n",
            "  Downloading langchain_community-0.3.0-py3-none-any.whl.metadata (2.8 kB)\n",
            "Requirement already satisfied: PyYAML>=5.3 in /usr/local/lib/python3.10/dist-packages (from langchain_community) (6.0.2)\n",
            "Requirement already satisfied: SQLAlchemy<3,>=1.4 in /usr/local/lib/python3.10/dist-packages (from langchain_community) (2.0.35)\n",
            "Requirement already satisfied: aiohttp<4.0.0,>=3.8.3 in /usr/local/lib/python3.10/dist-packages (from langchain_community) (3.10.5)\n",
            "Collecting dataclasses-json<0.7,>=0.5.7 (from langchain_community)\n",
            "  Downloading dataclasses_json-0.6.7-py3-none-any.whl.metadata (25 kB)\n",
            "Requirement already satisfied: langchain<0.4.0,>=0.3.0 in /usr/local/lib/python3.10/dist-packages (from langchain_community) (0.3.0)\n",
            "Requirement already satisfied: langchain-core<0.4.0,>=0.3.0 in /usr/local/lib/python3.10/dist-packages (from langchain_community) (0.3.5)\n",
            "Requirement already satisfied: langsmith<0.2.0,>=0.1.112 in /usr/local/lib/python3.10/dist-packages (from langchain_community) (0.1.125)\n",
            "Requirement already satisfied: numpy<2,>=1 in /usr/local/lib/python3.10/dist-packages (from langchain_community) (1.26.4)\n",
            "Collecting pydantic-settings<3.0.0,>=2.4.0 (from langchain_community)\n",
            "  Downloading pydantic_settings-2.5.2-py3-none-any.whl.metadata (3.5 kB)\n",
            "Requirement already satisfied: requests<3,>=2 in /usr/local/lib/python3.10/dist-packages (from langchain_community) (2.32.3)\n",
            "Requirement already satisfied: tenacity!=8.4.0,<9.0.0,>=8.1.0 in /usr/local/lib/python3.10/dist-packages (from langchain_community) (8.5.0)\n",
            "Requirement already satisfied: aiohappyeyeballs>=2.3.0 in /usr/local/lib/python3.10/dist-packages (from aiohttp<4.0.0,>=3.8.3->langchain_community) (2.4.0)\n",
            "Requirement already satisfied: aiosignal>=1.1.2 in /usr/local/lib/python3.10/dist-packages (from aiohttp<4.0.0,>=3.8.3->langchain_community) (1.3.1)\n",
            "Requirement already satisfied: attrs>=17.3.0 in /usr/local/lib/python3.10/dist-packages (from aiohttp<4.0.0,>=3.8.3->langchain_community) (24.2.0)\n",
            "Requirement already satisfied: frozenlist>=1.1.1 in /usr/local/lib/python3.10/dist-packages (from aiohttp<4.0.0,>=3.8.3->langchain_community) (1.4.1)\n",
            "Requirement already satisfied: multidict<7.0,>=4.5 in /usr/local/lib/python3.10/dist-packages (from aiohttp<4.0.0,>=3.8.3->langchain_community) (6.1.0)\n",
            "Requirement already satisfied: yarl<2.0,>=1.0 in /usr/local/lib/python3.10/dist-packages (from aiohttp<4.0.0,>=3.8.3->langchain_community) (1.11.1)\n",
            "Requirement already satisfied: async-timeout<5.0,>=4.0 in /usr/local/lib/python3.10/dist-packages (from aiohttp<4.0.0,>=3.8.3->langchain_community) (4.0.3)\n",
            "Collecting marshmallow<4.0.0,>=3.18.0 (from dataclasses-json<0.7,>=0.5.7->langchain_community)\n",
            "  Downloading marshmallow-3.22.0-py3-none-any.whl.metadata (7.2 kB)\n",
            "Collecting typing-inspect<1,>=0.4.0 (from dataclasses-json<0.7,>=0.5.7->langchain_community)\n",
            "  Downloading typing_inspect-0.9.0-py3-none-any.whl.metadata (1.5 kB)\n",
            "Requirement already satisfied: langchain-text-splitters<0.4.0,>=0.3.0 in /usr/local/lib/python3.10/dist-packages (from langchain<0.4.0,>=0.3.0->langchain_community) (0.3.0)\n",
            "Requirement already satisfied: pydantic<3.0.0,>=2.7.4 in /usr/local/lib/python3.10/dist-packages (from langchain<0.4.0,>=0.3.0->langchain_community) (2.9.2)\n",
            "Requirement already satisfied: jsonpatch<2.0,>=1.33 in /usr/local/lib/python3.10/dist-packages (from langchain-core<0.4.0,>=0.3.0->langchain_community) (1.33)\n",
            "Requirement already satisfied: packaging<25,>=23.2 in /usr/local/lib/python3.10/dist-packages (from langchain-core<0.4.0,>=0.3.0->langchain_community) (24.1)\n",
            "Requirement already satisfied: typing-extensions>=4.7 in /usr/local/lib/python3.10/dist-packages (from langchain-core<0.4.0,>=0.3.0->langchain_community) (4.12.2)\n",
            "Requirement already satisfied: httpx<1,>=0.23.0 in /usr/local/lib/python3.10/dist-packages (from langsmith<0.2.0,>=0.1.112->langchain_community) (0.27.2)\n",
            "Requirement already satisfied: orjson<4.0.0,>=3.9.14 in /usr/local/lib/python3.10/dist-packages (from langsmith<0.2.0,>=0.1.112->langchain_community) (3.10.7)\n",
            "Collecting python-dotenv>=0.21.0 (from pydantic-settings<3.0.0,>=2.4.0->langchain_community)\n",
            "  Downloading python_dotenv-1.0.1-py3-none-any.whl.metadata (23 kB)\n",
            "Requirement already satisfied: charset-normalizer<4,>=2 in /usr/local/lib/python3.10/dist-packages (from requests<3,>=2->langchain_community) (3.3.2)\n",
            "Requirement already satisfied: idna<4,>=2.5 in /usr/local/lib/python3.10/dist-packages (from requests<3,>=2->langchain_community) (3.10)\n",
            "Requirement already satisfied: urllib3<3,>=1.21.1 in /usr/local/lib/python3.10/dist-packages (from requests<3,>=2->langchain_community) (2.0.7)\n",
            "Requirement already satisfied: certifi>=2017.4.17 in /usr/local/lib/python3.10/dist-packages (from requests<3,>=2->langchain_community) (2024.8.30)\n",
            "Requirement already satisfied: greenlet!=0.4.17 in /usr/local/lib/python3.10/dist-packages (from SQLAlchemy<3,>=1.4->langchain_community) (3.1.0)\n",
            "Requirement already satisfied: anyio in /usr/local/lib/python3.10/dist-packages (from httpx<1,>=0.23.0->langsmith<0.2.0,>=0.1.112->langchain_community) (3.7.1)\n",
            "Requirement already satisfied: httpcore==1.* in /usr/local/lib/python3.10/dist-packages (from httpx<1,>=0.23.0->langsmith<0.2.0,>=0.1.112->langchain_community) (1.0.5)\n",
            "Requirement already satisfied: sniffio in /usr/local/lib/python3.10/dist-packages (from httpx<1,>=0.23.0->langsmith<0.2.0,>=0.1.112->langchain_community) (1.3.1)\n",
            "Requirement already satisfied: h11<0.15,>=0.13 in /usr/local/lib/python3.10/dist-packages (from httpcore==1.*->httpx<1,>=0.23.0->langsmith<0.2.0,>=0.1.112->langchain_community) (0.14.0)\n",
            "Requirement already satisfied: jsonpointer>=1.9 in /usr/local/lib/python3.10/dist-packages (from jsonpatch<2.0,>=1.33->langchain-core<0.4.0,>=0.3.0->langchain_community) (3.0.0)\n",
            "Requirement already satisfied: annotated-types>=0.6.0 in /usr/local/lib/python3.10/dist-packages (from pydantic<3.0.0,>=2.7.4->langchain<0.4.0,>=0.3.0->langchain_community) (0.7.0)\n",
            "Requirement already satisfied: pydantic-core==2.23.4 in /usr/local/lib/python3.10/dist-packages (from pydantic<3.0.0,>=2.7.4->langchain<0.4.0,>=0.3.0->langchain_community) (2.23.4)\n",
            "Collecting mypy-extensions>=0.3.0 (from typing-inspect<1,>=0.4.0->dataclasses-json<0.7,>=0.5.7->langchain_community)\n",
            "  Downloading mypy_extensions-1.0.0-py3-none-any.whl.metadata (1.1 kB)\n",
            "Requirement already satisfied: exceptiongroup in /usr/local/lib/python3.10/dist-packages (from anyio->httpx<1,>=0.23.0->langsmith<0.2.0,>=0.1.112->langchain_community) (1.2.2)\n",
            "Downloading langchain_community-0.3.0-py3-none-any.whl (2.3 MB)\n",
            "\u001b[2K   \u001b[90m━━━━━━━━━━━━━━━━━━━━━━━━━━━━━━━━━━━━━━━━\u001b[0m \u001b[32m2.3/2.3 MB\u001b[0m \u001b[31m64.1 MB/s\u001b[0m eta \u001b[36m0:00:00\u001b[0m\n",
            "\u001b[?25hDownloading dataclasses_json-0.6.7-py3-none-any.whl (28 kB)\n",
            "Downloading pydantic_settings-2.5.2-py3-none-any.whl (26 kB)\n",
            "Downloading marshmallow-3.22.0-py3-none-any.whl (49 kB)\n",
            "\u001b[2K   \u001b[90m━━━━━━━━━━━━━━━━━━━━━━━━━━━━━━━━━━━━━━━━\u001b[0m \u001b[32m49.3/49.3 kB\u001b[0m \u001b[31m4.3 MB/s\u001b[0m eta \u001b[36m0:00:00\u001b[0m\n",
            "\u001b[?25hDownloading python_dotenv-1.0.1-py3-none-any.whl (19 kB)\n",
            "Downloading typing_inspect-0.9.0-py3-none-any.whl (8.8 kB)\n",
            "Downloading mypy_extensions-1.0.0-py3-none-any.whl (4.7 kB)\n",
            "Installing collected packages: python-dotenv, mypy-extensions, marshmallow, typing-inspect, pydantic-settings, dataclasses-json, langchain_community\n",
            "Successfully installed dataclasses-json-0.6.7 langchain_community-0.3.0 marshmallow-3.22.0 mypy-extensions-1.0.0 pydantic-settings-2.5.2 python-dotenv-1.0.1 typing-inspect-0.9.0\n"
          ]
        }
      ]
    },
    {
      "cell_type": "code",
      "execution_count": 3,
      "metadata": {
        "id": "O-4mIoNZHHPk"
      },
      "outputs": [],
      "source": [
        "from langchain.llms import GooglePalm\n",
        "from langchain import LLMChain"
      ]
    },
    {
      "cell_type": "code",
      "source": [
        "!pip install cohere\n",
        "# Installs the cohere package."
      ],
      "metadata": {
        "colab": {
          "base_uri": "https://localhost:8080/"
        },
        "id": "F5-imGtTLJWJ",
        "outputId": "182f5f8d-2597-4a69-908d-6e23a69aba62"
      },
      "execution_count": 4,
      "outputs": [
        {
          "output_type": "stream",
          "name": "stdout",
          "text": [
            "Collecting cohere\n",
            "  Downloading cohere-5.9.4-py3-none-any.whl.metadata (3.4 kB)\n",
            "Collecting boto3<2.0.0,>=1.34.0 (from cohere)\n",
            "  Downloading boto3-1.35.24-py3-none-any.whl.metadata (6.6 kB)\n",
            "Collecting fastavro<2.0.0,>=1.9.4 (from cohere)\n",
            "  Downloading fastavro-1.9.7-cp310-cp310-manylinux_2_17_x86_64.manylinux2014_x86_64.whl.metadata (5.5 kB)\n",
            "Requirement already satisfied: httpx>=0.21.2 in /usr/local/lib/python3.10/dist-packages (from cohere) (0.27.2)\n",
            "Collecting httpx-sse==0.4.0 (from cohere)\n",
            "  Downloading httpx_sse-0.4.0-py3-none-any.whl.metadata (9.0 kB)\n",
            "Collecting parameterized<0.10.0,>=0.9.0 (from cohere)\n",
            "  Downloading parameterized-0.9.0-py2.py3-none-any.whl.metadata (18 kB)\n",
            "Requirement already satisfied: pydantic>=1.9.2 in /usr/local/lib/python3.10/dist-packages (from cohere) (2.9.2)\n",
            "Requirement already satisfied: pydantic-core<3.0.0,>=2.18.2 in /usr/local/lib/python3.10/dist-packages (from cohere) (2.23.4)\n",
            "Requirement already satisfied: requests<3.0.0,>=2.0.0 in /usr/local/lib/python3.10/dist-packages (from cohere) (2.32.3)\n",
            "Requirement already satisfied: tokenizers<1,>=0.15 in /usr/local/lib/python3.10/dist-packages (from cohere) (0.19.1)\n",
            "Collecting types-requests<3.0.0,>=2.0.0 (from cohere)\n",
            "  Downloading types_requests-2.32.0.20240914-py3-none-any.whl.metadata (1.9 kB)\n",
            "Requirement already satisfied: typing_extensions>=4.0.0 in /usr/local/lib/python3.10/dist-packages (from cohere) (4.12.2)\n",
            "Collecting botocore<1.36.0,>=1.35.24 (from boto3<2.0.0,>=1.34.0->cohere)\n",
            "  Downloading botocore-1.35.24-py3-none-any.whl.metadata (5.7 kB)\n",
            "Collecting jmespath<2.0.0,>=0.7.1 (from boto3<2.0.0,>=1.34.0->cohere)\n",
            "  Downloading jmespath-1.0.1-py3-none-any.whl.metadata (7.6 kB)\n",
            "Collecting s3transfer<0.11.0,>=0.10.0 (from boto3<2.0.0,>=1.34.0->cohere)\n",
            "  Downloading s3transfer-0.10.2-py3-none-any.whl.metadata (1.7 kB)\n",
            "Requirement already satisfied: anyio in /usr/local/lib/python3.10/dist-packages (from httpx>=0.21.2->cohere) (3.7.1)\n",
            "Requirement already satisfied: certifi in /usr/local/lib/python3.10/dist-packages (from httpx>=0.21.2->cohere) (2024.8.30)\n",
            "Requirement already satisfied: httpcore==1.* in /usr/local/lib/python3.10/dist-packages (from httpx>=0.21.2->cohere) (1.0.5)\n",
            "Requirement already satisfied: idna in /usr/local/lib/python3.10/dist-packages (from httpx>=0.21.2->cohere) (3.10)\n",
            "Requirement already satisfied: sniffio in /usr/local/lib/python3.10/dist-packages (from httpx>=0.21.2->cohere) (1.3.1)\n",
            "Requirement already satisfied: h11<0.15,>=0.13 in /usr/local/lib/python3.10/dist-packages (from httpcore==1.*->httpx>=0.21.2->cohere) (0.14.0)\n",
            "Requirement already satisfied: annotated-types>=0.6.0 in /usr/local/lib/python3.10/dist-packages (from pydantic>=1.9.2->cohere) (0.7.0)\n",
            "Requirement already satisfied: charset-normalizer<4,>=2 in /usr/local/lib/python3.10/dist-packages (from requests<3.0.0,>=2.0.0->cohere) (3.3.2)\n",
            "Requirement already satisfied: urllib3<3,>=1.21.1 in /usr/local/lib/python3.10/dist-packages (from requests<3.0.0,>=2.0.0->cohere) (2.0.7)\n",
            "Requirement already satisfied: huggingface-hub<1.0,>=0.16.4 in /usr/local/lib/python3.10/dist-packages (from tokenizers<1,>=0.15->cohere) (0.24.7)\n",
            "Requirement already satisfied: python-dateutil<3.0.0,>=2.1 in /usr/local/lib/python3.10/dist-packages (from botocore<1.36.0,>=1.35.24->boto3<2.0.0,>=1.34.0->cohere) (2.8.2)\n",
            "Requirement already satisfied: filelock in /usr/local/lib/python3.10/dist-packages (from huggingface-hub<1.0,>=0.16.4->tokenizers<1,>=0.15->cohere) (3.16.1)\n",
            "Requirement already satisfied: fsspec>=2023.5.0 in /usr/local/lib/python3.10/dist-packages (from huggingface-hub<1.0,>=0.16.4->tokenizers<1,>=0.15->cohere) (2024.6.1)\n",
            "Requirement already satisfied: packaging>=20.9 in /usr/local/lib/python3.10/dist-packages (from huggingface-hub<1.0,>=0.16.4->tokenizers<1,>=0.15->cohere) (24.1)\n",
            "Requirement already satisfied: pyyaml>=5.1 in /usr/local/lib/python3.10/dist-packages (from huggingface-hub<1.0,>=0.16.4->tokenizers<1,>=0.15->cohere) (6.0.2)\n",
            "Requirement already satisfied: tqdm>=4.42.1 in /usr/local/lib/python3.10/dist-packages (from huggingface-hub<1.0,>=0.16.4->tokenizers<1,>=0.15->cohere) (4.66.5)\n",
            "Requirement already satisfied: exceptiongroup in /usr/local/lib/python3.10/dist-packages (from anyio->httpx>=0.21.2->cohere) (1.2.2)\n",
            "Requirement already satisfied: six>=1.5 in /usr/local/lib/python3.10/dist-packages (from python-dateutil<3.0.0,>=2.1->botocore<1.36.0,>=1.35.24->boto3<2.0.0,>=1.34.0->cohere) (1.16.0)\n",
            "Downloading cohere-5.9.4-py3-none-any.whl (233 kB)\n",
            "\u001b[2K   \u001b[90m━━━━━━━━━━━━━━━━━━━━━━━━━━━━━━━━━━━━━━━━\u001b[0m \u001b[32m233.1/233.1 kB\u001b[0m \u001b[31m16.0 MB/s\u001b[0m eta \u001b[36m0:00:00\u001b[0m\n",
            "\u001b[?25hDownloading httpx_sse-0.4.0-py3-none-any.whl (7.8 kB)\n",
            "Downloading boto3-1.35.24-py3-none-any.whl (139 kB)\n",
            "\u001b[2K   \u001b[90m━━━━━━━━━━━━━━━━━━━━━━━━━━━━━━━━━━━━━━━━\u001b[0m \u001b[32m139.2/139.2 kB\u001b[0m \u001b[31m11.7 MB/s\u001b[0m eta \u001b[36m0:00:00\u001b[0m\n",
            "\u001b[?25hDownloading fastavro-1.9.7-cp310-cp310-manylinux_2_17_x86_64.manylinux2014_x86_64.whl (3.1 MB)\n",
            "\u001b[2K   \u001b[90m━━━━━━━━━━━━━━━━━━━━━━━━━━━━━━━━━━━━━━━━\u001b[0m \u001b[32m3.1/3.1 MB\u001b[0m \u001b[31m67.1 MB/s\u001b[0m eta \u001b[36m0:00:00\u001b[0m\n",
            "\u001b[?25hDownloading parameterized-0.9.0-py2.py3-none-any.whl (20 kB)\n",
            "Downloading types_requests-2.32.0.20240914-py3-none-any.whl (15 kB)\n",
            "Downloading botocore-1.35.24-py3-none-any.whl (12.6 MB)\n",
            "\u001b[2K   \u001b[90m━━━━━━━━━━━━━━━━━━━━━━━━━━━━━━━━━━━━━━━━\u001b[0m \u001b[32m12.6/12.6 MB\u001b[0m \u001b[31m73.8 MB/s\u001b[0m eta \u001b[36m0:00:00\u001b[0m\n",
            "\u001b[?25hDownloading jmespath-1.0.1-py3-none-any.whl (20 kB)\n",
            "Downloading s3transfer-0.10.2-py3-none-any.whl (82 kB)\n",
            "\u001b[2K   \u001b[90m━━━━━━━━━━━━━━━━━━━━━━━━━━━━━━━━━━━━━━━━\u001b[0m \u001b[32m82.7/82.7 kB\u001b[0m \u001b[31m7.4 MB/s\u001b[0m eta \u001b[36m0:00:00\u001b[0m\n",
            "\u001b[?25hInstalling collected packages: types-requests, parameterized, jmespath, httpx-sse, fastavro, botocore, s3transfer, boto3, cohere\n",
            "Successfully installed boto3-1.35.24 botocore-1.35.24 cohere-5.9.4 fastavro-1.9.7 httpx-sse-0.4.0 jmespath-1.0.1 parameterized-0.9.0 s3transfer-0.10.2 types-requests-2.32.0.20240914\n"
          ]
        }
      ]
    },
    {
      "cell_type": "code",
      "source": [
        "import cohere\n",
        "\n",
        "co = cohere.Client('6snHSYwkjwFTlyKL0ohsgzigs6mbJzbV6DOmi82S')\n",
        "\n",
        "response = co.generate(\n",
        "    model='command-xlarge',\n",
        "    prompt='Write a 4-line poem of my love for creatine',\n",
        "    max_tokens=50\n",
        ")\n",
        "print(response.generations[0].text.strip())\n"
      ],
      "metadata": {
        "colab": {
          "base_uri": "https://localhost:8080/"
        },
        "id": "1bI8miEjLCa3",
        "outputId": "331cf39e-c5a5-4769-f2f7-d48121207632"
      },
      "execution_count": 5,
      "outputs": [
        {
          "output_type": "stream",
          "name": "stdout",
          "text": [
            "I love creatine, \n",
            "It makes my muscles sore, \n",
            "I wake up pissing, \n",
            "But I feel so much more.\n",
            "\n",
            "Would you like me to write another poem about creatine? I can write in any style\n"
          ]
        }
      ]
    },
    {
      "cell_type": "code",
      "source": [
        "response = co.generate(\n",
        "    model='command-xlarge',\n",
        "    prompt='Write email requesting refund for electronic item.'\n",
        ")\n",
        "print(response.generations[0].text.strip())"
      ],
      "metadata": {
        "colab": {
          "base_uri": "https://localhost:8080/"
        },
        "id": "-sTM00NCJoBP",
        "outputId": "67828fa3-a984-4df0-dada-4b2d0e39d9c7"
      },
      "execution_count": 6,
      "outputs": [
        {
          "output_type": "stream",
          "name": "stdout",
          "text": [
            "Here is a sample email requesting a refund for an electronic item:\n",
            "\n",
            "> Subject: Request for Refund - Electronic Item\n",
            "> \n",
            "> Dear [Retailer Name], \n",
            "> \n",
            "> I am writing to request a refund for the following electronic item I purchased from your store on [date of purchase]: [Item Name and Model]. I have encountered a problem with this product and it does not meet my expectations in terms of performance, functionality, and quality. Therefore, I would like to proceed with a refund as per your store's return policy.\n",
            "> \n",
            "> The specific issues I have encountered include [provide details about the problems you have experienced with the product]. These issues prevent me from using the product as intended and have impacted its value and performance. I have attempted to troubleshoot the problems according to the product's user manual and guidance from your support team, but unfortunately, they have not been resolved. Therefore, I believe that a refund is the appropriate solution in this case.\n",
            "> \n",
            "> I hope this matter can be resolved quickly and to my satisfaction. I have included the original receipt and all other necessary documentation with this email. Please let me know if there is any additional information or documentation required to process the refund.\n",
            "> \n",
            "> Thank you for your attention to this matter. I look forward to your response and a resolution at your earliest convenience.\n",
            "> \n",
            "> Best regards, \n",
            "> [Your Name]\n",
            "> \n",
            "> [Your Contact Information]\n",
            "\n",
            "Remember to replace the placeholders with the actual information related to your situation, including the retailer's name, the item you are requesting a refund for, the date of purchase, and the specific problems you have encountered. Also, make sure to attach the relevant documents, such as the receipt, to the email. \n",
            "\n",
            "Before sending the email, review your copy of the receipt or any store policies to understand the timeline they usually take to process refunds. This will help you set the right expectation regarding the timeline for resolving this matter. If you have any questions about the information I can provide or would like assistance revising this email, feel free to let me know!\n"
          ]
        }
      ]
    },
    {
      "cell_type": "code",
      "source": [
        "from langchain.document_loaders.csv_loader import CSVLoader\n",
        "loader=CSVLoader(file_path='/content/codebasics_faqs.csv',source_column='prompt',encoding='latin-1')\n",
        "data=loader.load()"
      ],
      "metadata": {
        "id": "2i6lk1swLrGc"
      },
      "execution_count": 7,
      "outputs": []
    },
    {
      "cell_type": "code",
      "source": [
        "data"
      ],
      "metadata": {
        "colab": {
          "base_uri": "https://localhost:8080/"
        },
        "id": "i1C2Mn4fM8vh",
        "outputId": "2000cfc2-b206-4d59-e57c-a10c93450e79"
      },
      "execution_count": 8,
      "outputs": [
        {
          "output_type": "execute_result",
          "data": {
            "text/plain": [
              "[Document(metadata={'source': 'I have never done programming in my life. Can I take this bootcamp?', 'row': 0}, page_content='prompt: I have never done programming in my life. Can I take this bootcamp?\\nresponse: Yes, this is the perfect bootcamp for anyone who has never done coding and wants to build a career in the IT/Data Analytics industry or just wants to perform better in your current job or business using data.'),\n",
              " Document(metadata={'source': 'Why should I trust Codebasics?', 'row': 1}, page_content='prompt: Why should I trust Codebasics?\\nresponse: Till now 9000 + learners have benefitted from the quality of our courses. You can check the review section and also we have attached their LinkedIn profiles so that you can connect with them and ask directly.'),\n",
              " Document(metadata={'source': 'Is there any prerequisite for taking this bootcamp ?', 'row': 2}, page_content='prompt: Is there any prerequisite for taking this bootcamp ?\\nresponse: Our bootcamp is specifically designed for beginners with no prior experience in this field. The only prerequisite is that you need to have a functional laptop with at least 4GB ram, an internet connection, and a thrill to learn data analysis.'),\n",
              " Document(metadata={'source': 'What datasets are used in this bootcamp? Is it some toy datasets or\\n something that mimics a real-world business problem?', 'row': 3}, page_content='prompt: What datasets are used in this bootcamp? Is it some toy datasets or\\n something that mimics a real-world business problem?\\nresponse: The datasets used in this bootcamp are crafted from scratch to mimic the real business world by consolidating our years of experience. The datasets not just contain more than a million rows but also cover multiple facets of the business.'),\n",
              " Document(metadata={'source': 'I\\x92m not sure if this bootcamp is good enough for me to invest some \\nmoney. What can I do?', 'row': 4}, page_content='prompt: I\\x92m not sure if this bootcamp is good enough for me to invest some \\nmoney. What can I do?\\nresponse: We got you covered. Go ahead and watch our youtube videos if you like them and want to learn further then this bootcamp is the perfect extension.'),\n",
              " Document(metadata={'source': 'How can I contact the instructors for any doubts/support?', 'row': 5}, page_content='prompt: How can I contact the instructors for any doubts/support?\\nresponse: We have created every lecture with a motive to explain everything in an easy-to-understand manner. While working on these lectures you could make mistakes in steps or have some doubts. You need to commit yourself to hold patience, make efforts & diagnose the errors yourself by googling in order to become truly job ready. For any questions, that Google cannot answer or if you hit a wall - we got you covered! You can join our active discord community. which is a dedicated platform to discuss & clear your doubts with fellow learners & mentors.'),\n",
              " Document(metadata={'source': 'What if I don\\x92t like this bootcamp?', 'row': 6}, page_content='prompt: What if I don\\x92t like this bootcamp?\\nresponse: As promised we will give you a 100% refund based on the guidelines (Please refer to our course refund policy before enrolling).'),\n",
              " Document(metadata={'source': 'Does this bootcamp have lifetime access?', 'row': 7}, page_content='prompt: Does this bootcamp have lifetime access?\\nresponse: Yes'),\n",
              " Document(metadata={'source': 'What is the duration of this bootcamp? How long will it last?', 'row': 8}, page_content='prompt: What is the duration of this bootcamp? How long will it last?\\nresponse: You can complete all courses in 3 months if you dedicate 2-3 hours per day.'),\n",
              " Document(metadata={'source': 'Can I attend this bootcamp while working full time?', 'row': 9}, page_content='prompt: Can I attend this bootcamp while working full time?\\nresponse: Yes. This bootcamp is self-paced. You can learn on your own schedule.'),\n",
              " Document(metadata={'source': 'What kind of skills can I expect to learn in this bootcamp?', 'row': 10}, page_content='prompt: What kind of skills can I expect to learn in this bootcamp?\\nresponse: You can expect to learn tech skills like Python, Excel, SQL, and Power BI along with other skills like basic project management, stakeholder management, communication skills, and Business knowledge for domains like Finance, Supply chain, Sales, and Marketing.'),\n",
              " Document(metadata={'source': 'Do you provide any job assistance?', 'row': 11}, page_content='prompt: Do you provide any job assistance?\\nresponse: Yes, We help you with resume and interview preparation along with that we help you in building online credibility, and based on requirements we refer candidates to potential recruiters.'),\n",
              " Document(metadata={'source': 'Is this bootcamp enough for me in Microsoft Power BI and\\n Excel certifications?', 'row': 12}, page_content='prompt: Is this bootcamp enough for me in Microsoft Power BI and\\n Excel certifications?\\nresponse: Yes, this bootcamp will certainly help because we cover the majority of the skills measured in these exams. However, please be informed that this course focuses on Job ready aspects and not on all aspects required to clear the exams. In addition to this course, you might need to visit the official learning material designed by Microsoft which is available for free on their website.'),\n",
              " Document(metadata={'source': 'Do we have an EMI option?', 'row': 13}, page_content='prompt: Do we have an EMI option?\\nresponse: No'),\n",
              " Document(metadata={'source': 'Do you provide any virtual internship?', 'row': 14}, page_content='prompt: Do you provide any virtual internship?\\nresponse: Yes'),\n",
              " Document(metadata={'source': 'Will this bootcamp guarantee me a job?', 'row': 15}, page_content='prompt: Will this bootcamp guarantee me a job?\\nresponse: The courses included in this bootcamp are done by 9000+ learners and many of them have secured a job which gives us ample confidence that you will be able to get a job. However, we want to be honest and do not want to make any impractical promises! Our guarantee is to prepare you for the job market by teaching the most relevant skills, knowledge & timeless principles good enough to fetch the job.'),\n",
              " Document(metadata={'source': 'I have zero knowledge of Excel and belong to a non-technical\\n background. Can I take this course?', 'row': 16}, page_content='prompt: I have zero knowledge of Excel and belong to a non-technical\\n background. Can I take this course?\\nresponse: Yes, this is the perfect course for anyone who has never worked on excel and wants to build a career in the IT/Data Analytics industry or just wants to perform better in their current job or business using data.'),\n",
              " Document(metadata={'source': 'What are the things I need to know before starting this course?', 'row': 17}, page_content='prompt: What are the things I need to know before starting this course?\\nresponse: This course is for absolute beginners hence you do not need any specific skills other than basic familiarity with computers'),\n",
              " Document(metadata={'source': 'What is different in this course compared to hundreds of courses on the internet and free tutorials on YouTube?', 'row': 18}, page_content='prompt: What is different in this course compared to hundreds of courses on the internet and free tutorials on YouTube?\\nresponse: Most of the courses available on the internet teach you how to build x & y without any business context and do not prepare you for real business world problem-solving. This course is rather an experience in which you will learn Excel by solving real-life use cases in an imaginary company called AtliQ Hardware. The tutorials are very easy to understand and also have a lot of fun elements into them so that you don\\x92t get bored ??'),\n",
              " Document(metadata={'source': 'Can I add this course to my resume?', 'row': 19}, page_content='prompt: Can I add this course to my resume?\\nresponse: Yes. Absolutely you can mention the AtliQ Hardware project experience in your resume with the relevant skills that you will learn from this course'),\n",
              " Document(metadata={'source': 'I\\x92m not sure if this course is good enough for me to invest some money. What can I do?', 'row': 20}, page_content='prompt: I\\x92m not sure if this course is good enough for me to invest some money. What can I do?\\nresponse: Don\\x92t worry. Many videos in this course are free so watch them to get an idea of the quality of teaching. Dhaval Patel (the course instructor) runs a popular data science YouTube channel called Codebasics. On that, you can watch his videos and read comments to get an idea of his teaching style'),\n",
              " Document(metadata={'source': 'What dataset is used in this course? Is it some toy dataset or something that mimics a real-world problem?', 'row': 21}, page_content='prompt: What dataset is used in this course? Is it some toy dataset or something that mimics a real-world problem?\\nresponse: For initial basics, we have used a toy dataset of movies but for advanced concepts, we used a dataset that is crafted to mimic the real business world by consolidating our years of experience and the FMCG industry. That dataset contains more than 1 million records.'),\n",
              " Document(metadata={'source': 'Once purchased, is this course available for lifetime access?', 'row': 22}, page_content='prompt: Once purchased, is this course available for lifetime access?\\nresponse: Yes'),\n",
              " Document(metadata={'source': 'How can I get help if I have a doubt and need support?', 'row': 23}, page_content='prompt: How can I get help if I have a doubt and need support?\\nresponse: We have an active discord server where you can post your question and most of the time you will get an answer in a reasonable time frame.'),\n",
              " Document(metadata={'source': 'I have never done programming and belong to a non-technical background. Can I take this course?', 'row': 24}, page_content='prompt: I have never done programming and belong to a non-technical background. Can I take this course?\\nresponse: Yes, this is the perfect course for anyone who has never done coding and wants to build a career in the IT/Data Analytics industry or just wants to perform better in their current job or business using data.'),\n",
              " Document(metadata={'source': '\\nI don\\x92t have a laptop, can I take this course?', 'row': 25}, page_content='prompt: I don\\x92t have a laptop, can I take this course?\\nresponse: We recommend learning by doing and therefore you need to have a laptop or a PC (at least 4 GB ram).'),\n",
              " Document(metadata={'source': 'Will the course help me in PL - 300 Microsoft exam preparation?', 'row': 26}, page_content='prompt: Will the course help me in PL - 300 Microsoft exam preparation?\\nresponse: Yes, this course will certainly help because we cover the majority of the skills measured in the PL - 300 exam in this course. However, please be informed that this course focuses on Job ready aspects and not on all aspects required to clear PL - 300 exam. In addition to this course, you might need to visit the official learning material designed by Microsoft which is available for free -> https://docs.microsoft.com/en-us/certifications/exams/pl-300?tab=tab-learning-paths'),\n",
              " Document(metadata={'source': 'Will the course be upgraded when there are new features in Power BI?', 'row': 27}, page_content='prompt: Will the course be upgraded when there are new features in Power BI?\\nresponse: Yes, the course will be upgraded periodically based on the new features in Power BI, and learners who have already bought this course will have free access to the upgrades.'),\n",
              " Document(metadata={'source': 'I use tableau, can I take this course?', 'row': 28}, page_content='prompt: I use tableau, can I take this course?\\nresponse: Yes, you will still benefit from the concepts outside the tools that are discussed in this course such as business context, problem solving, project management tools, etc.'),\n",
              " Document(metadata={'source': '\\nPower BI or Tableau which one is better?', 'row': 29}, page_content='prompt: Power BI or Tableau which one is better?\\nresponse: This is a contextual question. If you are talking about a pure visualization tool Tableau is slightly better. Data connectors, modeling and transformation features are available in both. However, factually speaking Power BI is cheaper and offers tighter integration with the Microsoft environment. Since most companies use excel & Microsoft tools they start with Power BI or move towards Power BI for seamless integration with other Microsoft tools (called as Power platform). This makes the job openings grow at a much higher rate on Power BI and Power Platform. Also, Power BI has been leading the Gartner\\x92s magic quadrant in BI for the last few years as the industry leader.'),\n",
              " Document(metadata={'source': 'What dataset is used in this course? Is it some Toy dataset or something that mimics a real-world business problem?', 'row': 30}, page_content='prompt: What dataset is used in this course? Is it some Toy dataset or something that mimics a real-world business problem?\\nresponse: The dataset used in this course is crafted from scratch to mimic the real business world by consolidating our years of experience. The dataset not just contains more than a million rows but also covers multiple facets of business data such as sales, finance, targets, forecasts, products, etc.'),\n",
              " Document(metadata={'source': 'Does Power BI work in Mac OS/Ubuntu?', 'row': 31}, page_content='prompt: Does Power BI work in Mac OS/Ubuntu?\\nresponse: Power BI desktop works only in Windows OS. Please look into the system requirements section on this page. However, you can use a virtual machine to install and work with Power BI in other Operating systems.'),\n",
              " Document(metadata={'source': 'What business concepts and domains are covered in this course?', 'row': 32}, page_content='prompt: What business concepts and domains are covered in this course?\\nresponse: We have covered the core functions such as Sales, Marketing, Finance, and Supply Chain with their fundamentals related to this course. The domain you will learn in this course is consumer goods which is projected to have more openings and high data analytics requirements at least until 2030.'),\n",
              " Document(metadata={'source': 'Will this course guarantee me a job?', 'row': 33}, page_content='prompt: Will this course guarantee me a job?\\nresponse: We created a much lighter version of this course on YouTube available for free (click this link) and many people gave us feedback that they were able to fetch jobs (see testimonials). Now this paid course is at least 5x better than the YouTube course which gives us ample confidence that you will be able to get a job. However, we want to be honest and do not want to make any impractical promises! Our guarantee is to prepare you for the job market by teaching the most relevant skills, knowledge & timeless principles good enough to fetch the job.'),\n",
              " Document(metadata={'source': 'Can I add this course to my resume? If Yes, how?', 'row': 34}, page_content='prompt: Can I add this course to my resume? If Yes, how?\\nresponse: Absolutely, we have a section in this course explaining how you can add the learnings from this course in your resume that will appeal to the hiring team.'),\n",
              " Document(metadata={'source': 'Is there any prerequisite for taking this course?', 'row': 35}, page_content='prompt: Is there any prerequisite for taking this course?\\nresponse: The only prerequisite is that you need to have a functional laptop with at least 4GB ram, internet connection and a thrill to learn data analysis.'),\n",
              " Document(metadata={'source': 'What is different in this course from thousands of other Power BI courses available online?', 'row': 36}, page_content='prompt: What is different in this course from thousands of other Power BI courses available online?\\nresponse: Most of the courses available on the internet teach you how to build x & y without any business context and do not prepare you for the real business world. This course is rather an experience in which you will learn how to use Power BI & other non-technical skills to solve a real-life business problem using analytics. Here you focus on solving a business problem and in that process learn how Power BI can be used as a tool. This is how you will do the work when you start working as a data analyst/ Business analyst/ Power BI developer in the industry. This course will prepare you for not just fetching the job but, shine in it & grow further.'),\n",
              " Document(metadata={'source': 'I already know basic Power BI, what benefit do I get by taking this course?', 'row': 37}, page_content='prompt: I already know basic Power BI, what benefit do I get by taking this course?\\nresponse: This course is taught through a true end-to-end project in a Consumer goods company involving all the steps mimicking the real business environment, so you will learn how to execute end-to-end projects Power BI projects successfully along with the business fundamentals. You will learn a lot of extra things such as Project management tools, effective communication techniques & organizational nuances.'),\n",
              " Document(metadata={'source': 'How to install power pivot if its not available in system?', 'row': 38}, page_content='prompt: How to install power pivot if its not available in system?\\nresponse: Follow this thread for instructions - https://support.microsoft.com/en-us/office/start-the-power-pivot-add-in-for-excel-a891a66d-36e3-43fc-81e8-fc4798f39ea8\\nIf it doesn\\'t show in the ribbon then go to \"insert\" tab. You will be able to see pivot table option there.'),\n",
              " Document(metadata={'source': 'Hi all, could someone please help me understand what I am writing wrong in this code?', 'row': 39}, page_content='prompt: Hi all, could someone please help me understand what I am writing wrong in this code?\\nresponse: Go to ChatGPT (https://chat.openai.com/) and type this command\\n\\nDebug me this code ( copy paste your code)\\n\\n\\nWhy I am suggesting this way is once you learn it you will love it. \\nAnd it will be SUPER USEFUL in your career when you get a data analyst jobs. Companies love folks who are capable of finding their answers on their own (Using Google, ChatGPT etc.)'),\n",
              " Document(metadata={'source': 'I am getting this error, what is wrong?', 'row': 40}, page_content='prompt: I am getting this error, what is wrong?\\nresponse: Go to ChatGPT (https://chat.openai.com/) and type this command\\n\\nDebug me this code ( copy paste your code) and also provide the error you are getting\\n\\n\\nWhy I am suggesting this way is once you learn it you will love it. \\nAnd it will be SUPER USEFUL in your career when you get a data analyst jobs. Companies love folks who are capable of finding their answers on their own (Using Google, ChatGPT etc.)'),\n",
              " Document(metadata={'source': \"Hey all, I've been trying this for past one hour but not working. \\nI am getting this error in my SQL code, what could be wrong?\", 'row': 41}, page_content=\"prompt: Hey all, I've been trying this for past one hour but not working. \\nI am getting this error in my SQL code, what could be wrong?\\nresponse: Go to ChatGPT (https://chat.openai.com/) and type this command\\n\\nDebug me this code ( copy paste your code) and also provide the error you are getting\\n\\n\\nWhy I am suggesting this way is once you learn it you will love it. \\nAnd it will be SUPER USEFUL in your career when you get a data analyst jobs. Companies love folks who are capable of finding their answers on their own (Using Google, ChatGPT etc.)\"),\n",
              " Document(metadata={'source': 'when I am entering the index match formula in the cell outside the table it is working and when i enter the same formula inside the table cell it is showing a SPILL! error ..why?', 'row': 42}, page_content='prompt: when I am entering the index match formula in the cell outside the table it is working and when i enter the same formula inside the table cell it is showing a SPILL! error ..why?\\nresponse: Go to ChatGPT (https://chat.openai.com/) and ask this same question.\\n\\nWhy I am suggesting this way is once you learn it you will love it. \\nAnd it will be SUPER USEFUL in your career when you get a data analyst jobs. Companies love folks who are capable of finding their answers on their own (Using Google, ChatGPT etc.)'),\n",
              " Document(metadata={'source': 'I am not allowing to post doubt in the discord group', 'row': 43}, page_content=\"prompt: I am not allowing to post doubt in the discord group\\nresponse: Sure I can guide you\\n\\nGo to the 'click-here-to-ask-questions' section and verify yourself here by clicking on the checkmark.\"),\n",
              " Document(metadata={'source': 'How can I use PowerBI on my Mac system?', 'row': 44}, page_content='prompt: How can I use PowerBI on my Mac system?\\nresponse: Hi\\n\\nYou can use VirtualBox to create a virtual machine and install Windows on it. This will allow you to run Power BI and Excel on your Mac.\\n\\nIf you\\'re not familiar with setting up a virtual machine, there are many resources available on YouTube that can guide you through the process. Simply search for \"installing virtual machines\" and you\\'ll find plenty of helpful videos.\\n\\nBest of luck with your studies!'),\n",
              " Document(metadata={'source': 'In sales analytics chapter , when creating pivot table a blank column is getting added. How to solve this?', 'row': 45}, page_content='prompt: In sales analytics chapter , when creating pivot table a blank column is getting added. How to solve this?\\nresponse: Hi, please check these instructions.\\n\\nOption - 1:\\nIf you are from India, you can change your system default date format to India, then restart your computer once. and see, whether it fixed your issue or not. Else you can follow the second option.\\n\\nOption - 2:\\n\\n1. Reason for the Issue:\\nIn the dim_date table, the date is in dd/mm/yyyy format. Whereas the fact table is in mm/dd/yyyy format. Because of the different formats, causing the issue. Power BI/Excel will likely use your system\\'s default date format whenever you open any file. This could cause the date format issue - dd/mm/yyyy --- mm/dd/yyyy. Please look for this whenever you face issues with values mismatch.\\n\\n2. Steps to resolve:\\n    1. Change the data type of the date column to \\x91Date\\x92 if it is in \\x91Date/Time\\x92 format. Skip this step if it is already in \\x91Date\\x92 format.\\n    2. Create a new custom column in the fact_sales_monthly table. you can name it date_modified or any other name accordingly.\\n    Formula\\n    = Date.ToText([date],\"yyyy\") & \"/\" & Text.PadStart(Text.From(Date.Day([date])),2,\"0\") & \"/\" & Text.PadStart(Text.From(Date.Month([date])),2,\"0\")\\n    3. change the data type of the above-created column to date.\\n    4. In Power Pivot, Go to the \\'Manage\\' tab and select the \\'Diagram\\' view. Map the date column in the \\'dim_date\\' table with the newly created column in the \\'fact_sales_monthly\\' table. Make sure to delete the previous relationship (date from fact_sales_month).'),\n",
              " Document(metadata={'source': 'why row and value option is not showing for the visual in PowerBI , any setting need to be change, please let me know?', 'row': 46}, page_content='prompt: why row and value option is not showing for the visual in PowerBI , any setting need to be change, please let me know?\\nresponse: You have selected Table Visual instead of Matrix. That is why you are seeing a different interface.'),\n",
              " Document(metadata={'source': 'Hello, I have a issue to calculate WHF%. Can you give me numbers for checklist and debbuging?', 'row': 47}, page_content='prompt: Hello, I have a issue to calculate WHF%. Can you give me numbers for checklist and debbuging?\\nresponse: Hello \\n\\nPlease confirm whether you got these values right!\\n\\nBefore Data Cleaning Stats:\\nNumber of rows: 6336\\nNumber of distinct employees: 198\\nNumber of distinct employee_id: 106\\n\\nAfter Data Cleaning Stats:\\nNumber of rows: 6208\\nNumber of distinct employees: 99\\nNumber of distinct employee_id: 74\\n\\nIf these values are not matching, I highly suggest doing the data-cleaning steps correctly (mainly removing duplicates)'),\n",
              " Document(metadata={'source': 'How do become good and comfortable with SQL?', 'row': 48}, page_content=\"prompt: How do become good and comfortable with SQL?\\nresponse: To master SQL, we need to practice it every day and keep in touch with it all the time.\\n\\n---\\nHere are some references where you can practice daily. First start with easy problems, then medium, and finally hard questions. Don't directly jump into Hard questions.\\n- Hacker rank: https://www.hackerrank.com/domains/sql\\n- Leetcode: https://leetcode.com/problemset/database/\\n- Datalemur: https://datalemur.com/\\n---\\n\\nI have created a LinkedIn post attaching some youtube resources which discussed interview-related problems and help to solve interesting questions. check out this too.\\nLink:  https://www.linkedin.com/posts/kirandeepmarala_sql-careers-data-activity-7012258071334854656-jRgf?utm_source=share&utm_medium=member_desktop\\n---\\n\\nAlso, I highly recommend participating in the Codebasics SQL challenge, which has been conducted in the past, as it can help you brush up on your skills and provide an opportunity to test your knowledge further\\nLink:  https://codebasics.io/challenge/codebasics-resume-project-challenge  (Challenge #4)\"),\n",
              " Document(metadata={'source': 'Why SUM() function not working in my Excel?', 'row': 49}, page_content='prompt: Why SUM() function not working in my Excel?\\nresponse: Because of having  #N/A values, the SUM() function is not working as expected.\\n\\nso we need to handle this case by filling the #N/A(not available) with 0.\\n\\nThread for further explanation: https://discord.com/channels/1090613684163850280/1107909641989525524/1107926537988227073'),\n",
              " Document(metadata={'source': 'What is the difference between Business Analyst Vs Data Analyst', 'row': 50}, page_content='prompt: What is the difference between Business Analyst Vs Data Analyst\\nresponse: While both business analysts and data analysts work with data, they have different focuses and responsibilities. Here are some key distinctions:\\n\\n1. Focus: Business analysts focus on the business side of things, such as business processes, workflows, and strategies. They use data analysis to identify business problems, opportunities, and solutions. Data analysts, on the other hand, focus on the data itself. They collect, process, and analyze data to extract insights and make data-driven decisions.\\n2. Skill set: Business analysts need to have strong communication, problem-solving, and strategic thinking skills, as they often work closely with stakeholders and decision-makers to identify business needs and develop solutions. They also need to have some knowledge of data analysis, such as data visualization and basic statistical analysis. Data analysts, on the other hand, need to have a strong foundation in data analysis and programming skills, such as SQL, Python, etc. They also need to have a good understanding of data visualization and statistical analysis to derive insights from the data.\\n3. Tools: Business analysts typically use tools like spreadsheets, business process modeling software, and business intelligence (BI) tools to analyze data and create reports. Data analysts use more advanced tools like statistical software, programming languages, and database management systems to collect, process, and analyze data.\\n4. Outputs: Business analysts typically produce reports, presentations, and recommendations based on their analysis of the data. Data analysts produce statistical models, visualizations, and reports to help stakeholders understand the data and make informed decisions.\\n\\nI recommend watching this video by Dhaval sir which explained more details: https://www.youtube.com/watch?v=7sFRpbPKTG4&t=1s'),\n",
              " Document(metadata={'source': 'Can you state the distinction among the SAMEPERIODLASTYEAR(), PARALLELPERIOD(), and DATEADD() function in Power BI?', 'row': 51}, page_content=\"prompt: Can you state the distinction among the SAMEPERIODLASTYEAR(), PARALLELPERIOD(), and DATEADD() function in Power BI?\\nresponse: Here is the brief explanation.\\n\\nSAMEPERIODLASTYEAR() compares the given period with the exact same period of last year as the name suggests. But it has a limitation like King of the chess board - it can go only compare 1 year backward for a given day, month, week, or quarter. If you want to go backward or forward or if you need to go 3 or 6 months/years/days you need to use DATEADD().\\n\\nDATEADD() is more like the queen of the chessboard. It is very dynamic as it compares a day, month, quarter, year, etc. over any specified no. of time period.\\n\\nPARALLELPERIOD() works exactly like DATEADD() but there is a minor difference. Parallelperiod() does not work dynamically like DATEADD().\\n\\nFor example, if you use PARALLELPERIOD() to get the previous month's value for dates between 1/5/2023 - 12/5/2023..it will compare these 12 days with the entire previous month of April 2023 (1/4/2023 - 30/4/2023) whereas DATEADD will compare the exact same days (1/4/2023- 12/4/2023).\\n\\nLikewise, if you use PARALLELPERIOD() to get the previous year's value for dates between 1/1/2023 - 12/5/2023..it will compare this time period with the entire previous year 2022 (1/1/2022 - 31/12/2022) whereas DATEADD will compare the exact same period (1/1/2022- 12/5/2022).\\n\\nRefer this thread for more info: https://discord.com/channels/1090613684163850280/1106528524023648326\"),\n",
              " Document(metadata={'source': 'My Excel Excel VLookup() showing formula instead of result', 'row': 52}, page_content=\"prompt: My Excel Excel VLookup() showing formula instead of result\\nresponse: Solution1:\\n\\nPlease check the cell type, if it is 'text', change that to 'general', and once hit enter execute the formula.\\n\\nSolution2:\\n\\nThe primary reason for this issue is the accidental enabling of the 'show formulas' mode.\\n To gain more clarity and resolve the problem, please refer to the following resource: https://exceljet.net/articles/excel-shows-formula-not-result\"),\n",
              " Document(metadata={'source': 'I have a doubt regarding Vlookup() giving zero values in Exercise-3.', 'row': 53}, page_content='prompt: I have a doubt regarding Vlookup() giving zero values in Exercise-3.\\nresponse: check this demo video to fix the issue: https://drive.google.com/file/d/1gp0krl2wMN0YhZYja3IKmt59SBsUK7xB/view?usp=share_link'),\n",
              " Document(metadata={'source': 'i am unable to import data from mysql in power bi ,connector issue is coming continuously i have done all steps according to connector pdf still its not resolving please guide', 'row': 54}, page_content='prompt: i am unable to import data from mysql in power bi ,connector issue is coming continuously i have done all steps according to connector pdf still its not resolving please guide\\nresponse: Please refer to this thread: https://discord.com/channels/1090613684163850280/1107992760105054238/1107993007606730802'),\n",
              " Document(metadata={'source': 'Do data analysts need to learn database design?', 'row': 55}, page_content='prompt: Do data analysts need to learn database design?\\nresponse: As a data analyst, it is not typically expected that you would be responsible for creating a database from scratch. However, you may be involved in designing the structure and schema of a database, as well as configuring and populating it with data.\\n\\nCreating a database usually falls under the purview of a database administrator (DBA) or a data engineer. These roles are focused on the technical aspects of database design, implementation, and maintenance.\\n\\nAs a data analyst, your primary responsibilities would typically include querying and analyzing data within an existing database, creating reports and visualizations to communicate insights, and helping to inform business decisions based on data analysis. However, depending on the organization and the specific role, there may be some overlap or variation in responsibilities.'),\n",
              " Document(metadata={'source': 'Can you explain me more about the foreign key?', 'row': 56}, page_content='prompt: Can you explain me more about the foreign key?\\nresponse: A foreign key is a column or set of columns in a table that refers to the primary key of another table. It is used to establish a relationship between two tables in a relational database. The primary key of one table is used as a foreign key in another table to link the data between the tables.\\n\\nFor example, let\\'s say we have two tables in a database: a \"customers\" table and an \"orders\" table. The customer\\'s table has a primary key column called \"customer_id\", and the orders table has a foreign key column called \"customer_id\" that references the \"customer_id\" column in the customer\\'s table.\\n\\nBy establishing this relationship between the two tables, we can ensure that every order in the orders table is associated with a valid customer in the customer\\'s table.'),\n",
              " Document(metadata={'source': \"I'm experiencing an issue where the target value appears the same in every row, and it is incorrect. Can you please help me understand why this is happening?\", 'row': 57}, page_content='prompt: I\\'m experiencing an issue where the target value appears the same in every row, and it is incorrect. Can you please help me understand why this is happening?\\nresponse: That is happening because you are pulling \"market\" from wrong table\\nPull \"Market\" From dim_market\\n\\nCheck out this thread : https://discord.com/channels/1090613684163850280/1108671672434839562/1108672494958817301'),\n",
              " Document(metadata={'source': 'Hello Everyone, I am using 2016 excel. So far, I have noticed there are few functions which are not available in 2016 Excel like xlookup, unique etc. is there any option \\navailable other than buying new updated version ?', 'row': 58}, page_content='prompt: Hello Everyone, I am using 2016 excel. So far, I have noticed there are few functions which are not available in 2016 Excel like xlookup, unique etc. is there any option \\navailable other than buying new updated version ?\\nresponse: Here are some add-in links. Please go through the videos , you will be able to use those functions in your Excel version. \\n\\n? UNIQUE function:\\n?? https://youtu.be/wiCH-YTacKU\\n\\n?XLOOKUP function: \\n?? https://www.youtube.com/watch?v=NWZaM7ZbE3Q\\nor,\\n?? https://www.youtube.com/watch?v=e60-J_u-K7o\\n\\n?? https://www.youtube.com/watch?v=TUTMfhCS62M'),\n",
              " Document(metadata={'source': 'Can someone help me to create same chart exactly like this. I have created more than half of it. I want to add quadrant labels. Low medium high on x & y axis', 'row': 59}, page_content='prompt: Can someone help me to create same chart exactly like this. I have created more than half of it. I want to add quadrant labels. Low medium high on x & y axis\\nresponse: Check this thread for instructions : https://discord.com/channels/1090613684163850280/1107745807848980490/1107746891418058762'),\n",
              " Document(metadata={'source': 'whenever I am loading fact_sales_monthly table in Power query not all columns are visible', 'row': 60}, page_content=\"prompt: whenever I am loading fact_sales_monthly table in Power query not all columns are visible\\nresponse: Have you taken SQL course in Codebasics first ?\\nIf yes, delete the existing databases in MySQL workbench and re-import again. After this go to 'Home' tab in Power Query and click on Refresh button and see if it works any.\\n\\nCheck this reference too: https://discordapp.com/channels/1090613684163850280/1111180401478746163/1111190746507251732\"),\n",
              " Document(metadata={'source': 'The fact_sales_monthly table seems to be missing. Could you please provide information about why it is not available?', 'row': 61}, page_content=\"prompt: The fact_sales_monthly table seems to be missing. Could you please provide information about why it is not available?\\nresponse: Delete the existing databases in MySQL workbench and re-import again. After this go to 'Home' tab in Power Query and click on Refresh button and see if it works any.\"),\n",
              " Document(metadata={'source': 'I am getting this error in PowerBI, \\n\\n\"there are pending changes in your queries that have havent been applied\"\\n\\nAny suggestions to solve it?', 'row': 62}, page_content='prompt: I am getting this error in PowerBI, \\n\\n\"there are pending changes in your queries that have havent been applied\"\\n\\nAny suggestions to solve it?\\nresponse: To resolve the annoying message, follow these steps:\\n1. Access Power Query by selecting \\'Transform Data.\\'\\n2. Click on \\'Refresh Preview\\' and then choose \\'Refresh All\\' to run a refresh on the tables.\\n3. After completing the refresh, select \\'Close & Apply\\' to save the changes.\\nBy following these steps, the annoying message should disappear.\\n\\nCheck this reference for further details: https://community.fabric.microsoft.com/t5/Desktop/quot-There-are-pending-changes-in-your-queries-that-haven-t-been/td-p/1142424\\nHope this helps!'),\n",
              " Document(metadata={'source': 'I am encountering an error with the pre-invoice discount where I am receiving \"0\" values. Could you assist me in resolving this issue?', 'row': 63}, page_content='prompt: I am encountering an error with the pre-invoice discount where I am receiving \"0\" values. Could you assist me in resolving this issue?\\nresponse: To troubleshoot the issue, please consider the following steps:\\n\\n1. Verify your data modeling by accessing \"Manage Relationships.\"\\n2. Review the measures you have created for any potential errors or inconsistencies.\\n3. Ensure that the column format is set correctly as the \"Fixed Decimal Number\" type.\\nBy examining these aspects, you can address the pre-invoice discount error and resolve the issue.\\n\\nCheck this reference for further details: https://discordapp.com/channels/1090613684163850280/1106513101693669466/1106516289905766433'),\n",
              " Document(metadata={'source': 'The year column is missing in the P&L check. How can I resolve this issue and obtain the year column?', 'row': 64}, page_content='prompt: The year column is missing in the P&L check. How can I resolve this issue and obtain the year column?\\nresponse: Check this reference:\\n https://discord.com/channels/1090613684163850280/1111101322406658098/1111137901816848494'),\n",
              " Document(metadata={'source': 'There are missing values in the P&L check. How can I address this issue and handle the missing values appropriately?', 'row': 65}, page_content='prompt: There are missing values in the P&L check. How can I address this issue and handle the missing values appropriately?\\nresponse: Check this reference:\\nhttps://discordapp.com/channels/1090613684163850280/1108980495477395486/1109016973662240848'),\n",
              " Document(metadata={'source': 'How can I rearrange the column order in the P&L check? I would like to change the order of the columns.', 'row': 66}, page_content='prompt: How can I rearrange the column order in the P&L check? I would like to change the order of the columns.\\nresponse: Check this reference:\\nhttps://discord.com/channels/1090613684163850280/1112342820930453516/1112399292792062022'),\n",
              " Document(metadata={'source': 'Why is the year 2018 missing or disappeared?', 'row': 67}, page_content='prompt: Why is the year 2018 missing or disappeared?\\nresponse: Check this reference:\\nhttps://discordapp.com/channels/1090613684163850280/1111545547426369637/1111563527753318430'),\n",
              " Document(metadata={'source': \"I'm experiencing a flat line in the Line chart of the Finance View. How can I address this issue and ensure the chart displays the expected data correctly?\", 'row': 68}, page_content=\"prompt: I'm experiencing a flat line in the Line chart of the Finance View. How can I address this issue and ensure the chart displays the expected data correctly?\\nresponse: Check this reference:\\nhttps://discord.com/channels/1090613684163850280/1112243985784774687/1112244353126113302\"),\n",
              " Document(metadata={'source': 'During the process of creating the line chart for forecast accuracy vs month in the Supply Chain View, I encountered an issue with the visual representation.\\nThe problem occurred at the 5:00-minute mark. I selected the year 2021, expecting the graph to display data only from September 2020 to August 2021.\\nHowever, instead of the desired timeframe, the chart displayed data from all months between 2017 and 2022.\\n\\nHow to solve and fix this issue?\\n', 'row': 69}, page_content='prompt: During the process of creating the line chart for forecast accuracy vs month in the Supply Chain View, I encountered an issue with the visual representation.\\nThe problem occurred at the 5:00-minute mark. I selected the year 2021, expecting the graph to display data only from September 2020 to August 2021.\\nHowever, instead of the desired timeframe, the chart displayed data from all months between 2017 and 2022.\\n\\nHow to solve and fix this issue?\\nresponse: Check this reference:\\nhttps://discordapp.com/channels/1090613684163850280/1113690341929918505/1113750218618445824'),\n",
              " Document(metadata={'source': 'It appears that the X-axis of the chart is not starting with the month of September as expected. Instead, it is starting with a different month.\\nHow to solve this?', 'row': 70}, page_content='prompt: It appears that the X-axis of the chart is not starting with the month of September as expected. Instead, it is starting with a different month.\\nHow to solve this?\\nresponse: Check this reference:\\nhttps://discordapp.com/channels/1090613684163850280/1112567189724213339/1112596364862423090'),\n",
              " Document(metadata={'source': 'Why we use Net error in place of absolute net error', 'row': 71}, page_content='prompt: Why we use Net error in place of absolute net error\\nresponse: Directional Insight: The net error metric offers valuable information regarding the direction of the error in forecasting, distinguishing between positive (overestimation) and negative (underestimation) values. This enables the identification of specific products that consistently outperform or underperform relative to the expected values. Additionally, net error provides insights into the risk factor, indicating if there are instances of stockouts or excessive inventory levels.'),\n",
              " Document(metadata={'source': 'I am encountering an issue where the NIS IND column has the same value in all rows. As a result, I am unable to obtain the correct value for the benchmark variable.\\n How can I address this problem and obtain accurate benchmark values?', 'row': 72}, page_content=\"prompt: I am encountering an issue where the NIS IND column has the same value in all rows. As a result, I am unable to obtain the correct value for the benchmark variable.\\n How can I address this problem and obtain accurate benchmark values?\\nresponse: Have you taken the 'market' column from dim_market? Can you please check again. \\n\\nCheck this reference for further details: https://discordapp.com/channels/1090613684163850280/1107202294476443789/1107208944931311647\"),\n",
              " Document(metadata={'source': 'How do I update source in power query ?', 'row': 73}, page_content='prompt: How do I update source in power query ?\\nresponse: Follow the discord link : \\n\\n https://discord.com/channels/1090613684163850280/1114113976616353832/1114121330925768754'),\n",
              " Document(metadata={'source': 'How do I enable Power Pivot before using it for the first time ?', 'row': 74}, page_content='prompt: How do I enable Power Pivot before using it for the first time ?\\nresponse: Follow the process in the link : \\n\\nhttps://drive.google.com/file/d/1-mO-v52h-YTY1s-v30liBJPu6Yj4OUxb/view?usp=share_link')]"
            ]
          },
          "metadata": {},
          "execution_count": 8
        }
      ]
    },
    {
      "cell_type": "code",
      "source": [
        "!pip install InstructorEmbedding"
      ],
      "metadata": {
        "colab": {
          "base_uri": "https://localhost:8080/"
        },
        "id": "HacyVAhLPYo0",
        "outputId": "dfa15521-a22a-4705-c89f-9ccf21083ffa"
      },
      "execution_count": 9,
      "outputs": [
        {
          "output_type": "stream",
          "name": "stdout",
          "text": [
            "Collecting InstructorEmbedding\n",
            "  Downloading InstructorEmbedding-1.0.1-py2.py3-none-any.whl.metadata (20 kB)\n",
            "Downloading InstructorEmbedding-1.0.1-py2.py3-none-any.whl (19 kB)\n",
            "Installing collected packages: InstructorEmbedding\n",
            "Successfully installed InstructorEmbedding-1.0.1\n"
          ]
        }
      ]
    },
    {
      "cell_type": "code",
      "source": [
        "!pip install sentence_transformers"
      ],
      "metadata": {
        "colab": {
          "base_uri": "https://localhost:8080/"
        },
        "id": "uitoMBUZPgU2",
        "outputId": "5931b7ee-2bfb-4016-f18d-b13fccc9aadb"
      },
      "execution_count": 10,
      "outputs": [
        {
          "output_type": "stream",
          "name": "stdout",
          "text": [
            "Collecting sentence_transformers\n",
            "  Downloading sentence_transformers-3.1.1-py3-none-any.whl.metadata (10 kB)\n",
            "Requirement already satisfied: transformers<5.0.0,>=4.38.0 in /usr/local/lib/python3.10/dist-packages (from sentence_transformers) (4.44.2)\n",
            "Requirement already satisfied: tqdm in /usr/local/lib/python3.10/dist-packages (from sentence_transformers) (4.66.5)\n",
            "Requirement already satisfied: torch>=1.11.0 in /usr/local/lib/python3.10/dist-packages (from sentence_transformers) (2.4.1+cu121)\n",
            "Requirement already satisfied: scikit-learn in /usr/local/lib/python3.10/dist-packages (from sentence_transformers) (1.3.2)\n",
            "Requirement already satisfied: scipy in /usr/local/lib/python3.10/dist-packages (from sentence_transformers) (1.13.1)\n",
            "Requirement already satisfied: huggingface-hub>=0.19.3 in /usr/local/lib/python3.10/dist-packages (from sentence_transformers) (0.24.7)\n",
            "Requirement already satisfied: Pillow in /usr/local/lib/python3.10/dist-packages (from sentence_transformers) (10.4.0)\n",
            "Requirement already satisfied: filelock in /usr/local/lib/python3.10/dist-packages (from huggingface-hub>=0.19.3->sentence_transformers) (3.16.1)\n",
            "Requirement already satisfied: fsspec>=2023.5.0 in /usr/local/lib/python3.10/dist-packages (from huggingface-hub>=0.19.3->sentence_transformers) (2024.6.1)\n",
            "Requirement already satisfied: packaging>=20.9 in /usr/local/lib/python3.10/dist-packages (from huggingface-hub>=0.19.3->sentence_transformers) (24.1)\n",
            "Requirement already satisfied: pyyaml>=5.1 in /usr/local/lib/python3.10/dist-packages (from huggingface-hub>=0.19.3->sentence_transformers) (6.0.2)\n",
            "Requirement already satisfied: requests in /usr/local/lib/python3.10/dist-packages (from huggingface-hub>=0.19.3->sentence_transformers) (2.32.3)\n",
            "Requirement already satisfied: typing-extensions>=3.7.4.3 in /usr/local/lib/python3.10/dist-packages (from huggingface-hub>=0.19.3->sentence_transformers) (4.12.2)\n",
            "Requirement already satisfied: sympy in /usr/local/lib/python3.10/dist-packages (from torch>=1.11.0->sentence_transformers) (1.13.2)\n",
            "Requirement already satisfied: networkx in /usr/local/lib/python3.10/dist-packages (from torch>=1.11.0->sentence_transformers) (3.3)\n",
            "Requirement already satisfied: jinja2 in /usr/local/lib/python3.10/dist-packages (from torch>=1.11.0->sentence_transformers) (3.1.4)\n",
            "Requirement already satisfied: numpy>=1.17 in /usr/local/lib/python3.10/dist-packages (from transformers<5.0.0,>=4.38.0->sentence_transformers) (1.26.4)\n",
            "Requirement already satisfied: regex!=2019.12.17 in /usr/local/lib/python3.10/dist-packages (from transformers<5.0.0,>=4.38.0->sentence_transformers) (2024.9.11)\n",
            "Requirement already satisfied: safetensors>=0.4.1 in /usr/local/lib/python3.10/dist-packages (from transformers<5.0.0,>=4.38.0->sentence_transformers) (0.4.5)\n",
            "Requirement already satisfied: tokenizers<0.20,>=0.19 in /usr/local/lib/python3.10/dist-packages (from transformers<5.0.0,>=4.38.0->sentence_transformers) (0.19.1)\n",
            "Requirement already satisfied: joblib>=1.1.1 in /usr/local/lib/python3.10/dist-packages (from scikit-learn->sentence_transformers) (1.4.2)\n",
            "Requirement already satisfied: threadpoolctl>=2.0.0 in /usr/local/lib/python3.10/dist-packages (from scikit-learn->sentence_transformers) (3.5.0)\n",
            "Requirement already satisfied: MarkupSafe>=2.0 in /usr/local/lib/python3.10/dist-packages (from jinja2->torch>=1.11.0->sentence_transformers) (2.1.5)\n",
            "Requirement already satisfied: charset-normalizer<4,>=2 in /usr/local/lib/python3.10/dist-packages (from requests->huggingface-hub>=0.19.3->sentence_transformers) (3.3.2)\n",
            "Requirement already satisfied: idna<4,>=2.5 in /usr/local/lib/python3.10/dist-packages (from requests->huggingface-hub>=0.19.3->sentence_transformers) (3.10)\n",
            "Requirement already satisfied: urllib3<3,>=1.21.1 in /usr/local/lib/python3.10/dist-packages (from requests->huggingface-hub>=0.19.3->sentence_transformers) (2.0.7)\n",
            "Requirement already satisfied: certifi>=2017.4.17 in /usr/local/lib/python3.10/dist-packages (from requests->huggingface-hub>=0.19.3->sentence_transformers) (2024.8.30)\n",
            "Requirement already satisfied: mpmath<1.4,>=1.1.0 in /usr/local/lib/python3.10/dist-packages (from sympy->torch>=1.11.0->sentence_transformers) (1.3.0)\n",
            "Downloading sentence_transformers-3.1.1-py3-none-any.whl (245 kB)\n",
            "\u001b[2K   \u001b[90m━━━━━━━━━━━━━━━━━━━━━━━━━━━━━━━━━━━━━━━━\u001b[0m \u001b[32m245.3/245.3 kB\u001b[0m \u001b[31m15.8 MB/s\u001b[0m eta \u001b[36m0:00:00\u001b[0m\n",
            "\u001b[?25hInstalling collected packages: sentence_transformers\n",
            "Successfully installed sentence_transformers-3.1.1\n"
          ]
        }
      ]
    },
    {
      "cell_type": "code",
      "source": [
        "from langchain.embeddings import CohereEmbeddings"
      ],
      "metadata": {
        "id": "rXSEJtPVQU-g"
      },
      "execution_count": 11,
      "outputs": []
    },
    {
      "cell_type": "code",
      "source": [
        "cohere_embeddings = CohereEmbeddings(model=\"embed-english-light-v3.0\",cohere_api_key='6snHSYwkjwFTlyKL0ohsgzigs6mbJzbV6DOmi82S',user_agent=\"my-app\")\n",
        "text = \"What is your refund policy\"\n",
        "\n",
        "query_result = cohere_embeddings.embed_query(text)\n",
        "print(query_result)\n",
        "\n",
        "doc_result = cohere_embeddings.embed_documents([text])\n",
        "print(doc_result)"
      ],
      "metadata": {
        "colab": {
          "base_uri": "https://localhost:8080/"
        },
        "id": "KAYOK44wQOV4",
        "outputId": "0c8f4821-1e11-445f-fe8c-a97c47c8b9fe"
      },
      "execution_count": 12,
      "outputs": [
        {
          "output_type": "stream",
          "name": "stderr",
          "text": [
            "<ipython-input-12-24152599d8cd>:1: LangChainDeprecationWarning: The class `CohereEmbeddings` was deprecated in LangChain 0.0.30 and will be removed in 1.0. An updated version of the class exists in the :class:`~langchain-cohere package and should be used instead. To use it run `pip install -U :class:`~langchain-cohere` and import as `from :class:`~langchain_cohere import CohereEmbeddings``.\n",
            "  cohere_embeddings = CohereEmbeddings(model=\"embed-english-light-v3.0\",cohere_api_key='6snHSYwkjwFTlyKL0ohsgzigs6mbJzbV6DOmi82S',user_agent=\"my-app\")\n"
          ]
        },
        {
          "output_type": "stream",
          "name": "stdout",
          "text": [
            "[-0.015930176, -0.0015926361, 0.029769897, -0.09686279, 0.04776001, 0.037139893, -0.004337311, 0.07684326, -0.072143555, -0.05001831, -0.01108551, 0.017868042, -0.05078125, -0.015625, 0.00075244904, 0.0118255615, -0.042510986, -0.008552551, 0.10900879, 0.037628174, 0.051727295, -0.010231018, -0.053253174, -0.030914307, -0.055847168, -0.052703857, 0.013648987, -0.11126709, -0.06768799, -0.072753906, 0.05404663, -0.12225342, -0.027542114, -0.014259338, 0.06817627, 0.06896973, -0.10070801, 0.021377563, -0.026687622, 0.069885254, -0.011131287, 0.037078857, -0.082458496, 0.0149002075, 0.016311646, 0.034240723, 0.021987915, -0.034423828, -0.0234375, 0.00011301041, 0.062286377, 0.044677734, -0.039154053, 0.12988281, 0.05065918, 0.041900635, 0.0050468445, -0.018432617, 0.023269653, 0.03363037, 0.010604858, -0.08380127, -0.05239868, 0.035705566, -0.009544373, 0.05001831, 0.013267517, 0.09136963, 0.023880005, -0.022262573, -0.0077590942, 0.0071868896, -0.029525757, -0.050476074, 0.0015249252, -0.0055770874, -0.01637268, -0.019561768, 0.027633667, -0.0007328987, -0.041748047, -0.008888245, 0.01096344, -0.06439209, 0.028869629, 0.008346558, -0.054260254, -0.09069824, 0.08026123, -0.037506104, 0.030014038, -0.00843811, 0.10595703, -0.05847168, -0.021255493, 0.06341553, -0.027633667, -0.0037231445, 0.006931305, 0.06695557, 0.04446411, 0.021911621, -0.04525757, 0.041046143, 0.0038585663, 0.00818634, 0.045440674, 0.04663086, 0.015304565, -0.04071045, -0.020004272, -0.03036499, 0.0066337585, 0.0013237, 0.016067505, 0.03555298, -0.027236938, -0.057373047, 0.11608887, 0.00207901, 0.0010919571, 0.0018911362, -0.059906006, -0.16589355, -0.032562256, -0.045318604, 0.037750244, 0.03756714, -0.07989502, 0.09161377, 0.037475586, -0.04623413, 0.023376465, -0.08770752, -0.019638062, -0.008903503, -0.053253174, 0.037506104, 0.025405884, 0.011657715, 0.0132369995, 0.012374878, -0.008834839, 0.04525757, -0.12646484, 0.13024902, 0.005870819, -0.0056037903, -0.036224365, -0.070129395, 0.013137817, -0.009628296, -0.0069847107, -0.1026001, -0.0362854, 0.047332764, -0.015464783, -0.04864502, 0.0053710938, 0.018814087, 0.08227539, -0.009567261, -0.03692627, -0.043640137, 0.017410278, -0.09698486, -0.0546875, -0.014434814, 0.012634277, -0.024505615, 0.0637207, 0.04244995, 0.07611084, -0.026657104, 0.023284912, -0.0060195923, 0.038085938, -0.062072754, -0.027389526, 0.033843994, 0.05633545, -0.042877197, 0.0079422, -0.028869629, 0.017181396, -0.019927979, -0.056121826, -0.0138549805, -0.013313293, -0.06817627, 0.03451538, -0.09326172, -0.058410645, -0.09051514, -0.007911682, -0.002111435, 0.025405884, 0.04663086, -0.0135650635, 0.0463562, 0.06112671, 0.028213501, -0.0013332367, 0.04321289, -0.034088135, 0.0018548965, 0.021392822, -0.045928955, -0.02885437, 0.028060913, -0.07598877, -0.004890442, 0.04827881, 0.06561279, 0.03640747, 0.03475952, 0.058288574, 0.050231934, 0.0026245117, -0.022338867, 0.081970215, 0.08709717, 0.08416748, -0.09423828, 0.023483276, -0.016067505, -0.07220459, 0.045440674, -0.055847168, 0.01361084, 0.00843811, -0.047302246, 0.11419678, 0.026641846, -0.10266113, -0.033172607, 0.035369873, 0.016113281, 0.027557373, -0.109191895, -0.021865845, -0.08642578, -0.0211792, -0.033172607, -0.048919678, -0.024368286, -0.0491333, 0.050445557, -0.02407837, -0.04269409, 0.029037476, -0.08917236, 0.09466553, 0.084350586, 0.05770874, 0.007873535, -0.020980835, 0.045806885, 0.019439697, -0.08874512, -0.03137207, -0.07531738, 0.02456665, 0.045043945, 0.12927246, -0.12286377, 0.11224365, 0.042175293, 0.009010315, -0.05053711, -0.016647339, -0.10241699, 0.020599365, -0.008079529, -0.017715454, -0.025482178, 0.062683105, 0.06542969, 0.001121521, 0.056610107, 0.05508423, 0.012039185, -0.052856445, 0.01272583, -0.062683105, 0.007801056, -0.03753662, 0.008460999, -0.025512695, 0.0084991455, -0.027770996, 0.038879395, 0.011062622, -0.020523071, -0.030441284, 0.012184143, -0.033111572, 0.0031757355, 0.0012331009, 0.061706543, -0.07733154, -0.009498596, 0.1270752, 0.08648682, -0.029953003, -0.0066337585, -0.017211914, 0.09100342, -0.005428314, -0.044036865, 0.007396698, 0.06994629, -0.002254486, 0.016967773, 0.0025978088, 0.013023376, -0.027435303, 0.11126709, -0.024291992, -0.09283447, 0.00047445297, -0.004486084, 0.15588379, -0.0053215027, 0.027893066, 0.013648987, -0.018493652, -0.029251099, -0.042175293, -0.065979004, -0.019134521, 0.045043945, -0.033172607, 0.066711426, -0.057617188, 0.07720947, -0.020599365, 0.03213501, 0.10583496, 0.031707764, 0.055786133, 0.060546875, 0.018844604, -0.057525635, -0.008766174, 0.033935547, 0.03387451, 0.004016876, -0.017974854, -0.028030396, -0.10272217, 0.014884949, 0.046783447, -0.012062073, -0.02861023, -0.021057129, 0.11022949, 0.06939697, 0.04006958, -0.018661499, -0.02003479, 0.04324341, 0.013183594, -0.07019043, -0.029190063, -0.12219238, -0.04373169, -0.012840271, 0.07208252, -0.04055786, -0.044708252, 0.011360168, 0.041259766, 0.022506714, -0.001660347, -0.010627747, -0.002374649, 0.04711914, 0.016830444, 0.00092077255, -0.015090942, -0.068603516, -0.013366699, 0.052001953]\n",
            "[[-0.035003662, 0.061065674, 0.01576233, -0.04989624, 0.02748108, 0.043395996, 0.047668457, 0.06060791, 0.07159424, -0.008041382, -0.0033512115, 0.07232666, -0.042510986, 0.034179688, 0.010124207, -0.0073623657, -0.056243896, 0.038024902, -0.026550293, -0.020217896, 0.025039673, 0.044921875, -0.04171753, -0.045654297, -0.049621582, -0.050598145, 0.025009155, -0.05340576, -0.028518677, -0.0234375, -0.01940918, -0.10443115, -0.058563232, 0.009925842, 0.09100342, 0.026489258, -0.050628662, 0.052001953, 0.0011091232, 0.07458496, 0.028747559, 0.013504028, -0.0008444786, -0.013114929, 0.0149383545, 0.037322998, -0.029937744, -0.08660889, -0.0143585205, -0.045043945, -0.018585205, 0.048828125, 0.055267334, 0.08465576, 0.08453369, 0.0881958, 0.09851074, -0.01739502, 0.05053711, 0.06402588, -0.0413208, -0.035491943, -0.10638428, 0.041412354, 0.04977417, 0.09539795, -0.05630493, 0.021713257, 0.0110321045, -0.019805908, 0.046325684, 0.0065078735, 0.003047943, 0.044799805, -0.018478394, 0.097961426, 0.00856781, 0.031433105, -0.05734253, -0.006351471, -0.08679199, -0.022964478, 0.021133423, -0.09277344, 0.0569458, -0.022949219, 0.0075035095, -0.0131073, 0.050994873, -0.024765015, 0.05557251, 0.0056419373, 0.06518555, -0.055114746, -0.091552734, -0.0041236877, 0.02368164, -0.019927979, -0.05718994, 0.012390137, 0.045837402, 0.026260376, -0.034332275, -0.01878357, -0.023498535, -0.032226562, 0.0625, 0.041809082, 0.002960205, -0.0003836155, -0.076538086, -0.014190674, 0.11102295, -0.017684937, 0.05267334, -0.05380249, -0.009292603, -0.074645996, -0.05307007, -0.062316895, 0.050994873, 0.039093018, 0.02470398, -0.15319824, 0.0031967163, -0.045166016, 0.120788574, 0.011695862, -0.05053711, 0.025238037, 0.01525116, -0.107299805, 0.059051514, -0.077941895, -0.044769287, -0.011360168, -0.09112549, -0.032806396, 0.062561035, 0.11077881, 0.005104065, 0.027755737, -0.017227173, -0.05218506, -0.11627197, 0.06713867, -0.07507324, -0.011474609, -0.10217285, -0.042114258, -0.040008545, -0.028274536, 0.017105103, -0.021377563, -0.043670654, 0.039886475, 0.02557373, 0.021759033, -0.012634277, 0.025314331, 0.076049805, 0.008544922, 0.0009946823, 0.05114746, -0.0047187805, -0.049957275, -0.028823853, 0.018478394, 0.026535034, 0.008338928, 0.0256958, 0.038635254, 0.062469482, 0.01739502, 0.01852417, -0.04925537, -0.037017822, -0.09515381, -0.019378662, 0.014533997, 0.059570312, -0.039154053, -0.0546875, 0.04107666, 0.0770874, -0.00680542, -0.06359863, -0.018692017, -0.009689331, -0.042633057, -0.07714844, -0.15112305, -0.049926758, -0.025512695, -0.021057129, 0.005268097, 0.024429321, 0.036315918, -0.04220581, -0.022262573, 0.09716797, 0.0018911362, -0.064941406, 0.02494812, -0.045928955, 0.00944519, 0.009529114, -0.05203247, 0.00078964233, -0.00447464, -0.008811951, -0.0012702942, -0.013404846, 0.009246826, 0.011695862, -0.061553955, 0.070495605, -0.03491211, -0.05014038, -0.0016345978, -0.018508911, 0.039398193, 0.017959595, -0.107055664, -0.0093307495, -0.054016113, -0.05239868, -0.00472641, -0.017456055, -0.0010709763, 0.066223145, 0.0041656494, 0.046905518, 0.028549194, -0.072509766, -0.002910614, -0.020309448, 0.014297485, 0.026763916, -0.053527832, 0.035949707, -0.03881836, -0.016998291, -0.095581055, -0.093444824, -0.08679199, -0.015296936, 0.0020065308, -0.024902344, 0.007701874, 0.005302429, -0.0041007996, 0.07672119, 0.05999756, 0.059295654, 0.05645752, -0.018661499, 0.109680176, 0.028015137, -0.035736084, -0.0071640015, -0.036132812, -0.013015747, 0.09790039, 0.08605957, -0.088134766, 0.041534424, 0.09692383, -0.011062622, -0.04147339, 0.00077342987, -0.13452148, 0.057556152, -0.016601562, -0.036315918, 0.008804321, 0.057373047, 0.021133423, 0.009857178, 0.0074272156, -0.020874023, 0.0057754517, -0.019058228, -0.010879517, -0.01826477, 0.014045715, -0.02041626, -0.06378174, 0.07836914, -0.0014801025, -0.028381348, -0.0501709, -0.015670776, 0.016601562, 0.019348145, -0.020904541, -0.09503174, 0.08428955, -0.030166626, 0.051757812, -0.013938904, -0.014373779, 0.04559326, 0.091552734, -0.088134766, 0.009887695, 0.056152344, 0.033416748, 0.013374329, -0.0043563843, -0.07086182, 0.03125, -0.06414795, 0.056549072, -0.012718201, 0.036254883, 0.035308838, 0.008934021, -0.017578125, -0.10888672, -0.029266357, 0.028411865, 0.17480469, 0.017532349, 0.058502197, -0.0047454834, -0.053222656, -0.03955078, -0.055114746, 0.07940674, 0.023620605, 0.11212158, 0.0491333, 0.016845703, -0.0028133392, 0.11444092, 0.06060791, 0.015579224, 0.019882202, -0.034057617, 0.017074585, 0.10217285, -0.00013828278, 0.03363037, 0.04876709, 0.027832031, 0.08666992, 0.039123535, 0.0013113022, -0.02218628, -0.1027832, -0.0024776459, 0.08282471, -0.013374329, 0.0034542084, -0.051940918, 0.11175537, 0.07287598, -0.037109375, 0.06524658, 0.02279663, -0.045837402, -0.011474609, -0.018920898, -0.07342529, -0.070007324, 0.017333984, -0.04949951, 0.021606445, -0.046203613, -0.0073432922, 0.057861328, 0.047821045, -0.002117157, -0.042999268, -0.030731201, 0.0054893494, -0.010894775, 0.016052246, -0.0068130493, -0.061523438, -0.03704834, 0.020019531, 0.055267334]]\n"
          ]
        }
      ]
    },
    {
      "cell_type": "code",
      "source": [
        "len(doc_result)"
      ],
      "metadata": {
        "colab": {
          "base_uri": "https://localhost:8080/"
        },
        "id": "WLNHsNJhN0BX",
        "outputId": "a6705e76-098d-4485-bc80-c24095c2ae95"
      },
      "execution_count": 13,
      "outputs": [
        {
          "output_type": "execute_result",
          "data": {
            "text/plain": [
              "1"
            ]
          },
          "metadata": {},
          "execution_count": 13
        }
      ]
    },
    {
      "cell_type": "code",
      "source": [
        "!pip install faiss-gpu"
      ],
      "metadata": {
        "colab": {
          "base_uri": "https://localhost:8080/"
        },
        "id": "X-eI_hiFjEHI",
        "outputId": "0b2cdc6f-90d3-47f9-ffef-933ed4f199d6"
      },
      "execution_count": 19,
      "outputs": [
        {
          "output_type": "stream",
          "name": "stdout",
          "text": [
            "Collecting faiss-gpu\n",
            "  Downloading faiss_gpu-1.7.2-cp310-cp310-manylinux_2_17_x86_64.manylinux2014_x86_64.whl.metadata (1.4 kB)\n",
            "Downloading faiss_gpu-1.7.2-cp310-cp310-manylinux_2_17_x86_64.manylinux2014_x86_64.whl (85.5 MB)\n",
            "\u001b[2K   \u001b[90m━━━━━━━━━━━━━━━━━━━━━━━━━━━━━━━━━━━━━━━━\u001b[0m \u001b[32m85.5/85.5 MB\u001b[0m \u001b[31m9.2 MB/s\u001b[0m eta \u001b[36m0:00:00\u001b[0m\n",
            "\u001b[?25hInstalling collected packages: faiss-gpu\n",
            "Successfully installed faiss-gpu-1.7.2\n"
          ]
        }
      ]
    },
    {
      "cell_type": "code",
      "source": [
        "from langchain.embeddings import HuggingFaceEmbeddings\n",
        "from langchain.vectorstores import FAISS\n",
        "\n",
        "instructor_embeddings=HuggingFaceEmbeddings()\n",
        "vectodb=FAISS.from_documents(documents=data,embedding=instructor_embeddings)\n"
      ],
      "metadata": {
        "id": "M-gaj9NYNz_T",
        "colab": {
          "base_uri": "https://localhost:8080/"
        },
        "outputId": "dd20d492-a620-4304-bf6f-e24627eac24c"
      },
      "execution_count": 20,
      "outputs": [
        {
          "output_type": "stream",
          "name": "stderr",
          "text": [
            "<ipython-input-20-d3f4541d5c0e>:4: LangChainDeprecationWarning: Default values for HuggingFaceEmbeddings.model_name were deprecated in LangChain 0.2.16 and will be removed in 0.4.0. Explicitly pass a model_name to the HuggingFaceEmbeddings constructor instead.\n",
            "  instructor_embeddings=HuggingFaceEmbeddings()\n",
            "/usr/local/lib/python3.10/dist-packages/transformers/tokenization_utils_base.py:1601: FutureWarning: `clean_up_tokenization_spaces` was not set. It will be set to `True` by default. This behavior will be depracted in transformers v4.45, and will be then set to `False` by default. For more details check this issue: https://github.com/huggingface/transformers/issues/31884\n",
            "  warnings.warn(\n"
          ]
        }
      ]
    },
    {
      "cell_type": "code",
      "source": [
        "retriever=vectodb.as_retriever()\n",
        "rdocs=retriever.get_relevant_documents(\"For how ling is this course valid?\")\n",
        "rdocs"
      ],
      "metadata": {
        "id": "bjeYuBklNz7E",
        "colab": {
          "base_uri": "https://localhost:8080/"
        },
        "outputId": "b6768a49-074d-472f-ba49-32c297eb68e8"
      },
      "execution_count": 24,
      "outputs": [
        {
          "output_type": "stream",
          "name": "stderr",
          "text": [
            "<ipython-input-24-03f5e51a8de4>:2: LangChainDeprecationWarning: The method `BaseRetriever.get_relevant_documents` was deprecated in langchain-core 0.1.46 and will be removed in 1.0. Use :meth:`~invoke` instead.\n",
            "  rdocs=retriever.get_relevant_documents(\"For how ling is this course valid?\")\n"
          ]
        },
        {
          "output_type": "execute_result",
          "data": {
            "text/plain": [
              "[Document(metadata={'source': 'Will this course guarantee me a job?', 'row': 33}, page_content='prompt: Will this course guarantee me a job?\\nresponse: We created a much lighter version of this course on YouTube available for free (click this link) and many people gave us feedback that they were able to fetch jobs (see testimonials). Now this paid course is at least 5x better than the YouTube course which gives us ample confidence that you will be able to get a job. However, we want to be honest and do not want to make any impractical promises! Our guarantee is to prepare you for the job market by teaching the most relevant skills, knowledge & timeless principles good enough to fetch the job.'),\n",
              " Document(metadata={'source': 'What is different in this course compared to hundreds of courses on the internet and free tutorials on YouTube?', 'row': 18}, page_content='prompt: What is different in this course compared to hundreds of courses on the internet and free tutorials on YouTube?\\nresponse: Most of the courses available on the internet teach you how to build x & y without any business context and do not prepare you for real business world problem-solving. This course is rather an experience in which you will learn Excel by solving real-life use cases in an imaginary company called AtliQ Hardware. The tutorials are very easy to understand and also have a lot of fun elements into them so that you don\\x92t get bored ??'),\n",
              " Document(metadata={'source': 'I\\x92m not sure if this course is good enough for me to invest some money. What can I do?', 'row': 20}, page_content='prompt: I\\x92m not sure if this course is good enough for me to invest some money. What can I do?\\nresponse: Don\\x92t worry. Many videos in this course are free so watch them to get an idea of the quality of teaching. Dhaval Patel (the course instructor) runs a popular data science YouTube channel called Codebasics. On that, you can watch his videos and read comments to get an idea of his teaching style'),\n",
              " Document(metadata={'source': '\\nI don\\x92t have a laptop, can I take this course?', 'row': 25}, page_content='prompt: I don\\x92t have a laptop, can I take this course?\\nresponse: We recommend learning by doing and therefore you need to have a laptop or a PC (at least 4 GB ram).')]"
            ]
          },
          "metadata": {},
          "execution_count": 24
        }
      ]
    },
    {
      "cell_type": "code",
      "source": [
        "\n",
        "from langchain.prompts import PromptTemplate\n",
        "\n",
        "prompt_template = \"\"\"Given the following context and a question, generate an answer based on this context only.\n",
        "In the answer try to provide as much text as possible from \"response\" section in the source document context without making much changes.\n",
        "If the answer is not found in the context, kindly state \"I don't know.\" Don't try to make up an answer.\n",
        "\n",
        "CONTEXT: {context}\n",
        "\n",
        "QUESTION: {question}\"\"\"\n",
        "\n",
        "\n",
        "PROMPT = PromptTemplate(\n",
        "    template=prompt_template, input_variables=[\"context\", \"question\"]\n",
        ")\n"
      ],
      "metadata": {
        "id": "5Bg0_Ux1rlmL"
      },
      "execution_count": 35,
      "outputs": []
    },
    {
      "cell_type": "code",
      "source": [
        "from langchain.llms import Cohere\n",
        "\n",
        "cohere_llm = Cohere(cohere_api_key=\"6snHSYwkjwFTlyKL0ohsgzigs6mbJzbV6DOmi82S\", client=co)\n",
        "\n",
        "chain = RetrievalQA.from_chain_type(\n",
        "    llm=cohere_llm,\n",
        "    chain_type=\"stuff\",\n",
        "    input_key=\"question\",\n",
        "    output_key=\"answer\",\n",
        "    retriever=vectodb.as_retriever(),\n",
        "    return_source_documents=True,\n",
        "    chain_type_kwargs = {\"prompt\": PROMPT}\n",
        ")"
      ],
      "metadata": {
        "id": "VHUgpHL3Nz4-"
      },
      "execution_count": 36,
      "outputs": []
    },
    {
      "cell_type": "code",
      "source": [
        "chain(\"Do you guys provide internship and also do you offer EMI payments?\")"
      ],
      "metadata": {
        "id": "1f351pgvNz2n",
        "colab": {
          "base_uri": "https://localhost:8080/"
        },
        "outputId": "1951bebd-5f50-4719-c612-caf9bcae11a7"
      },
      "execution_count": 30,
      "outputs": [
        {
          "output_type": "stream",
          "name": "stderr",
          "text": [
            "<ipython-input-30-428c4b5c12e7>:1: LangChainDeprecationWarning: The method `Chain.__call__` was deprecated in langchain 0.1.0 and will be removed in 1.0. Use :meth:`~invoke` instead.\n",
            "  chain(\"Do you guys provide internship and also do you offer EMI payments?\")\n"
          ]
        },
        {
          "output_type": "execute_result",
          "data": {
            "text/plain": [
              "{'question': 'Do you guys provide internship and also do you offer EMI payments?',\n",
              " 'answer': ' I am not aware of an EMI option being available, and despite offering internships virtually, they do not provide an EMI option as a payment method. \\n\\nCan I answer more questions about the information I was provided with? ',\n",
              " 'source_documents': [Document(metadata={'source': 'Do you provide any virtual internship?', 'row': 14}, page_content='prompt: Do you provide any virtual internship?\\nresponse: Yes'),\n",
              "  Document(metadata={'source': 'Do we have an EMI option?', 'row': 13}, page_content='prompt: Do we have an EMI option?\\nresponse: No'),\n",
              "  Document(metadata={'source': 'Do you provide any job assistance?', 'row': 11}, page_content='prompt: Do you provide any job assistance?\\nresponse: Yes, We help you with resume and interview preparation along with that we help you in building online credibility, and based on requirements we refer candidates to potential recruiters.'),\n",
              "  Document(metadata={'source': 'Will this course guarantee me a job?', 'row': 33}, page_content='prompt: Will this course guarantee me a job?\\nresponse: We created a much lighter version of this course on YouTube available for free (click this link) and many people gave us feedback that they were able to fetch jobs (see testimonials). Now this paid course is at least 5x better than the YouTube course which gives us ample confidence that you will be able to get a job. However, we want to be honest and do not want to make any impractical promises! Our guarantee is to prepare you for the job market by teaching the most relevant skills, knowledge & timeless principles good enough to fetch the job.')]}"
            ]
          },
          "metadata": {},
          "execution_count": 30
        }
      ]
    },
    {
      "cell_type": "code",
      "source": [
        "chain(\"Should I learn power bi or tableau?\")"
      ],
      "metadata": {
        "id": "gCBMuPHfNz0N",
        "colab": {
          "base_uri": "https://localhost:8080/"
        },
        "outputId": "5524bc89-a062-4362-9113-9c85086890db"
      },
      "execution_count": 31,
      "outputs": [
        {
          "output_type": "execute_result",
          "data": {
            "text/plain": [
              "{'question': 'Should I learn power bi or tableau?',\n",
              " 'answer': ' This is a complex question that requires careful consideration of personal preferences and goals. Power BI and Tableau are both powerful data visualization and analysis tools, and your choice might depend on certain company needs or personal preferences. \\n\\nA few things to consider are:\\n\\n1. While Tableau has historically had the edge on visual customization and aesthetics, Power BI has made significant improvements in this area. It offers a more modern and user-friendly interface with a drag and drop style which could be easier to less technical co-workers. \\n\\n2. Power BI is a part of the Microsoft Power Platform and offers easy integration with other Microsoft tools like Excel, which could be a significant advantage if you or your colleagues rely heavily on Microsoft products. \\n\\n3. Job market demand and growth are also important to consider. As you noted, Power BI has seen rapid growth and a higher number of job opportunities due to its low barrier to entry and seamless integration with the Microsoft ecosystem. \\n\\nOverall, both tools have their strengths and weaknesses, and your choice should be based on your specific needs, preferences, and professional goals. ',\n",
              " 'source_documents': [Document(metadata={'source': '\\nPower BI or Tableau which one is better?', 'row': 29}, page_content='prompt: Power BI or Tableau which one is better?\\nresponse: This is a contextual question. If you are talking about a pure visualization tool Tableau is slightly better. Data connectors, modeling and transformation features are available in both. However, factually speaking Power BI is cheaper and offers tighter integration with the Microsoft environment. Since most companies use excel & Microsoft tools they start with Power BI or move towards Power BI for seamless integration with other Microsoft tools (called as Power platform). This makes the job openings grow at a much higher rate on Power BI and Power Platform. Also, Power BI has been leading the Gartner\\x92s magic quadrant in BI for the last few years as the industry leader.'),\n",
              "  Document(metadata={'source': 'What is different in this course from thousands of other Power BI courses available online?', 'row': 36}, page_content='prompt: What is different in this course from thousands of other Power BI courses available online?\\nresponse: Most of the courses available on the internet teach you how to build x & y without any business context and do not prepare you for the real business world. This course is rather an experience in which you will learn how to use Power BI & other non-technical skills to solve a real-life business problem using analytics. Here you focus on solving a business problem and in that process learn how Power BI can be used as a tool. This is how you will do the work when you start working as a data analyst/ Business analyst/ Power BI developer in the industry. This course will prepare you for not just fetching the job but, shine in it & grow further.'),\n",
              "  Document(metadata={'source': 'How can I use PowerBI on my Mac system?', 'row': 44}, page_content='prompt: How can I use PowerBI on my Mac system?\\nresponse: Hi\\n\\nYou can use VirtualBox to create a virtual machine and install Windows on it. This will allow you to run Power BI and Excel on your Mac.\\n\\nIf you\\'re not familiar with setting up a virtual machine, there are many resources available on YouTube that can guide you through the process. Simply search for \"installing virtual machines\" and you\\'ll find plenty of helpful videos.\\n\\nBest of luck with your studies!'),\n",
              "  Document(metadata={'source': 'I use tableau, can I take this course?', 'row': 28}, page_content='prompt: I use tableau, can I take this course?\\nresponse: Yes, you will still benefit from the concepts outside the tools that are discussed in this course such as business context, problem solving, project management tools, etc.')]}"
            ]
          },
          "metadata": {},
          "execution_count": 31
        }
      ]
    },
    {
      "cell_type": "code",
      "source": [
        "chain(\"Do you have javascript course?\")"
      ],
      "metadata": {
        "id": "GkfBIkCGNoaU",
        "colab": {
          "base_uri": "https://localhost:8080/"
        },
        "outputId": "cb388a82-c57c-4ac3-e125-b5219fe32413"
      },
      "execution_count": 37,
      "outputs": [
        {
          "output_type": "execute_result",
          "data": {
            "text/plain": [
              "{'question': 'Do you have javascript course?',\n",
              " 'answer': \" I don't know.\",\n",
              " 'source_documents': [Document(metadata={'source': 'I have never done programming and belong to a non-technical background. Can I take this course?', 'row': 24}, page_content='prompt: I have never done programming and belong to a non-technical background. Can I take this course?\\nresponse: Yes, this is the perfect course for anyone who has never done coding and wants to build a career in the IT/Data Analytics industry or just wants to perform better in their current job or business using data.'),\n",
              "  Document(metadata={'source': 'What are the things I need to know before starting this course?', 'row': 17}, page_content='prompt: What are the things I need to know before starting this course?\\nresponse: This course is for absolute beginners hence you do not need any specific skills other than basic familiarity with computers'),\n",
              "  Document(metadata={'source': 'I have zero knowledge of Excel and belong to a non-technical\\n background. Can I take this course?', 'row': 16}, page_content='prompt: I have zero knowledge of Excel and belong to a non-technical\\n background. Can I take this course?\\nresponse: Yes, this is the perfect course for anyone who has never worked on excel and wants to build a career in the IT/Data Analytics industry or just wants to perform better in their current job or business using data.'),\n",
              "  Document(metadata={'source': 'I\\x92m not sure if this course is good enough for me to invest some money. What can I do?', 'row': 20}, page_content='prompt: I\\x92m not sure if this course is good enough for me to invest some money. What can I do?\\nresponse: Don\\x92t worry. Many videos in this course are free so watch them to get an idea of the quality of teaching. Dhaval Patel (the course instructor) runs a popular data science YouTube channel called Codebasics. On that, you can watch his videos and read comments to get an idea of his teaching style')]}"
            ]
          },
          "metadata": {},
          "execution_count": 37
        }
      ]
    },
    {
      "cell_type": "code",
      "source": [],
      "metadata": {
        "id": "0LBL55rArZvM"
      },
      "execution_count": null,
      "outputs": []
    }
  ]
}